{
 "cells": [
  {
   "cell_type": "code",
   "execution_count": 0,
   "metadata": {
    "application/vnd.databricks.v1+cell": {
     "cellMetadata": {
      "byteLimit": 2048000,
      "rowLimit": 10000
     },
     "inputWidgets": {},
     "nuid": "aa9bacb9-ad70-429b-9950-1b947976759e",
     "showTitle": false,
     "tableResultSettingsMap": {},
     "title": ""
    }
   },
   "outputs": [],
   "source": [
    "import pyspark.sql.functions as F\n",
    "from pyspark.sql.types import DateType\n",
    "from pyspark.sql.window import Window as W\n",
    "import matplotlib.pyplot as plt\n",
    "import seaborn as sns\n",
    "import pandas as pd\n",
    "from pyspark.sql.connect.dataframe import DataFrame\n",
    "import copy"
   ]
  },
  {
   "cell_type": "code",
   "execution_count": 0,
   "metadata": {
    "application/vnd.databricks.v1+cell": {
     "cellMetadata": {
      "byteLimit": 2048000,
      "rowLimit": 10000
     },
     "inputWidgets": {},
     "nuid": "08c00fbd-4e6f-40e4-b4f8-dbb0ea01fc4e",
     "showTitle": false,
     "tableResultSettingsMap": {},
     "title": ""
    }
   },
   "outputs": [],
   "source": [
    "def null_check(df):\n",
    "    null_col_names = list()\n",
    "    for col in df.columns:\n",
    "        if df.filter(F.col(col).isNull()).count() > 0:\n",
    "            null_col_names.append(col)\n",
    "        else:\n",
    "            continue\n",
    "    return null_col_names"
   ]
  },
  {
   "cell_type": "markdown",
   "metadata": {
    "application/vnd.databricks.v1+cell": {
     "cellMetadata": {},
     "inputWidgets": {},
     "nuid": "84100f1f-6b53-4cbe-b81f-17ed5b558502",
     "showTitle": false,
     "tableResultSettingsMap": {},
     "title": ""
    }
   },
   "source": [
    "daily_activity_metrics"
   ]
  },
  {
   "cell_type": "code",
   "execution_count": 0,
   "metadata": {
    "application/vnd.databricks.v1+cell": {
     "cellMetadata": {
      "byteLimit": 2048000,
      "rowLimit": 10000
     },
     "inputWidgets": {},
     "nuid": "736f566e-75e7-46b6-ac06-a554fc0cd21e",
     "showTitle": false,
     "tableResultSettingsMap": {},
     "title": ""
    }
   },
   "outputs": [],
   "source": [
    "df_dam = spark.table(\"google_fit.silver.daily_activity_metrics\")"
   ]
  },
  {
   "cell_type": "code",
   "execution_count": 0,
   "metadata": {
    "application/vnd.databricks.v1+cell": {
     "cellMetadata": {
      "byteLimit": 2048000,
      "rowLimit": 10000
     },
     "inputWidgets": {},
     "nuid": "57efddea-4408-4ad1-a5c9-b1a9caaac5af",
     "showTitle": false,
     "tableResultSettingsMap": {
      "0": {
       "dataGridStateBlob": "{\"version\":1,\"tableState\":{\"columnPinning\":{\"left\":[\"#row_number#\"],\"right\":[]},\"columnSizing\":{},\"columnVisibility\":{}},\"settings\":{\"columns\":{}},\"syncTimestamp\":1757755514482}",
       "filterBlob": null,
       "queryPlanFiltersBlob": null,
       "tableResultIndex": 0
      }
     },
     "title": ""
    }
   },
   "outputs": [],
   "source": [
    "display(df_dam)"
   ]
  },
  {
   "cell_type": "code",
   "execution_count": 0,
   "metadata": {
    "application/vnd.databricks.v1+cell": {
     "cellMetadata": {
      "byteLimit": 2048000,
      "implicitDf": true,
      "rowLimit": 10000
     },
     "inputWidgets": {},
     "nuid": "03631d2f-c96a-4e66-b71e-9921d6729de8",
     "showTitle": false,
     "tableResultSettingsMap": {},
     "title": ""
    }
   },
   "outputs": [],
   "source": [
    "%sql\n",
    "\n",
    "create schema if not exists google_fit.gold"
   ]
  },
  {
   "cell_type": "code",
   "execution_count": 0,
   "metadata": {
    "application/vnd.databricks.v1+cell": {
     "cellMetadata": {
      "byteLimit": 2048000,
      "rowLimit": 10000
     },
     "inputWidgets": {},
     "nuid": "3909788c-460d-4825-a861-f3f9e5529c02",
     "showTitle": true,
     "tableResultSettingsMap": {},
     "title": "CreateDF class"
    }
   },
   "outputs": [],
   "source": [
    "class CreateDF:\n",
    "    __base_catalog = \"google_fit\"\n",
    "    __base_schema = \"silver\"\n",
    "    __base_table = \"daily_activity_metrics\"\n",
    "    __base_table_name = f\"{__base_catalog}.{__base_schema}.{__base_table}\"\n",
    "    __excepted_cols = ['etl_timestamp', 'file_path']\n",
    "\n",
    "    @classmethod\n",
    "    def get_tables(cls, schema_name: str):\n",
    "        return [\n",
    "            row[\"table\"]\n",
    "            for row in spark.sql(\n",
    "                f\"SHOW TABLES IN {cls.__base_catalog}.{schema_name}\"\n",
    "            ).selectExpr(\n",
    "                f\"concat_ws('.', '{cls.__base_catalog}', database, tableName) as table\"\n",
    "            ).filter(\"\"\" table not rlike \"_sqldf\" \"\"\")\n",
    "            .collect()\n",
    "        ]\n",
    "\n",
    "    @classmethod\n",
    "    def from_table(cls, schema_name: str= None, table_name:str = None):\n",
    "        if schema_name is None and table_name is None:\n",
    "            ref_table = spark.table(cls.__base_table_name)\n",
    "        elif(table_name not in cls.get_tables(schema_name) == 0):\n",
    "            raise Exception(\"Given table or schema does not exist!\")\n",
    "        else:\n",
    "            try:\n",
    "                ref_table = spark.table(f\"{cls.__base_catalog}.{schema_name}.{table_name}\")\n",
    "            except Exception as e:\n",
    "                print(f\"Some error occured when reading the referenced table into a DataFrame: {e}\")\n",
    "        cols = ref_table.columns\n",
    "        return ref_table.select(*[col for col in cols if col not in cls.__excepted_cols])\n"
   ]
  },
  {
   "cell_type": "code",
   "execution_count": 0,
   "metadata": {
    "application/vnd.databricks.v1+cell": {
     "cellMetadata": {
      "byteLimit": 2048000,
      "rowLimit": 10000
     },
     "inputWidgets": {},
     "nuid": "c1835722-7793-4392-b803-54f186e73645",
     "showTitle": true,
     "tableResultSettingsMap": {},
     "title": "Base DeclarativeAggregations Class"
    }
   },
   "outputs": [],
   "source": [
    "class DeclarativeAggregations:\n",
    "    __basic_agg_config = {\n",
    "        \"count\": [],\n",
    "        \"avg\": [],\n",
    "        \"sum\": [],\n",
    "        \"max\": [],\n",
    "        \"min\": [],\n",
    "        \"lag\": []\n",
    "    }\n",
    "     \n",
    "    def __init__(self, df: DataFrame):\n",
    "        if(isinstance(df, DataFrame)):\n",
    "            self.df = df\n",
    "            self.df_trans = None\n",
    "            self.agg_config =  copy.deepcopy(self.__class__.__basic_agg_config)\n",
    "            self.entities = None\n",
    "        else:\n",
    "            raise Exception(\"df is not a Spark DataFrame\")\n",
    "\n",
    "    def define_entities(self, entities: str|list[str] = None):\n",
    "        if(entities is None):\n",
    "            self.entities = [row['entity'] for row in self.df.select('entity').distinct().collect()]\n",
    "            return\n",
    "        if isinstance(entities, str):\n",
    "            entities_list = [entities]\n",
    "        else:\n",
    "            entities_list = entities\n",
    "        if(set(entities_list).issubset({row['entity'] for row in self.df.select('entity').distinct().collect()})):\n",
    "            self.entities = list(set(entities_list))\n",
    "        else:\n",
    "            raise Exception(\"Given entity does not exist in the dataframe!\")\n",
    "\n",
    "    @staticmethod\n",
    "    def cols_checker(df: DataFrame, cols: str|list[str]) -> bool:\n",
    "        check = lambda cols, df: set(cols).issubset(set(df.columns)) if type(cols) == list else set([cols]).issubset(set(df.columns))\n",
    "        return check(cols, df)\n",
    "    \n",
    "    def build_agg_config(\n",
    "        self, agg_metric: str, group_by_cols: str | list[str],\n",
    "        agg_on_col: str, name: str, offset: int = 1, default=None, order_by: str = None\n",
    "    ):\n",
    "        if agg_metric not in self.agg_config.keys():\n",
    "            raise Exception(\"Given aggregation type is not supported!\")\n",
    "        if self.df_trans is None:\n",
    "             if not DeclarativeAggregations.cols_checker(self.df, group_by_cols):\n",
    "                 raise Exception(\"Given partition columns do not exist in the dataframe!\")\n",
    "             if not DeclarativeAggregations.cols_checker(self.df, agg_on_col):\n",
    "                 raise Exception(\"Given agg_on does not exist in the dataframe!\")\n",
    "        else:\n",
    "            if not (DeclarativeAggregations.cols_checker(self.df_trans, group_by_cols)):\n",
    "                raise Exception(\"Given partition columns do not exist in the trans dataframe!\")\n",
    "            if not DeclarativeAggregations.cols_checker(self.df_trans, agg_on_col):\n",
    "                raise Exception(\"Given agg_on does not exist in the trans dataframe!\")\n",
    "\n",
    "        config = {\n",
    "            \"group_by_cols\": group_by_cols,\n",
    "            \"agg_on_col\": agg_on_col,\n",
    "            \"name\": name\n",
    "        }\n",
    "        if agg_metric in [\"lag\"]:\n",
    "            config[\"offset\"] = offset\n",
    "            config[\"default\"] = default\n",
    "            config[\"order_by\"] = order_by\n",
    "        self.agg_config[agg_metric].append(config)\n",
    "    \n",
    "    def build_trans_df(self):\n",
    "        def get_expr_for_agg_metric(agg_metric, derived_col_info):\n",
    "            if agg_metric == \"avg\":\n",
    "                return F.avg(F.col(derived_col_info[\"agg_on_col\"]))\n",
    "            elif agg_metric == \"max\":\n",
    "                return F.max(F.col(derived_col_info[\"agg_on_col\"]))\n",
    "            elif agg_metric == \"min\":\n",
    "                return F.min(F.col(derived_col_info[\"agg_on_col\"]))\n",
    "            elif agg_metric == \"sum\":\n",
    "                return F.sum(F.col(derived_col_info[\"agg_on_col\"]))\n",
    "            elif agg_metric == \"count\":\n",
    "                return F.count(F.col(derived_col_info[\"agg_on_col\"]))\n",
    "            elif agg_metric == \"lag\":\n",
    "                return F.lag(\n",
    "                    F.col(derived_col_info[\"agg_on_col\"]),\n",
    "                    derived_col_info.get(\"offset\", 1),\n",
    "                    derived_col_info.get(\"default\")\n",
    "                )\n",
    " \n",
    "        if not self.df_trans:\n",
    "            self.df_trans = self.df.filter(F.col('entity').isin(self.entities))\n",
    "        for agg_metric in self.agg_config.keys():\n",
    "            for derived_col_info in self.agg_config[agg_metric]:\n",
    "                w_spec = W.partitionBy(derived_col_info['group_by_cols'])\n",
    "                if agg_metric in [\"lag\"] and derived_col_info.get(\"order_by\"):\n",
    "                    w_spec = w_spec.orderBy(derived_col_info[\"order_by\"])\n",
    "                expr = get_expr_for_agg_metric(agg_metric, derived_col_info)\n",
    "                self.df_trans = self.df_trans.withColumn(derived_col_info[\"name\"], expr.over(w_spec))\n",
    "\n",
    "    def clear_agg_config(self):\n",
    "        self.agg_config = copy.deepcopy(self.__class__.__basic_agg_config)\n",
    "\n",
    "    def clear_df_trans(self):\n",
    "        self.df_trans = None\n",
    "\n",
    "    def current_attributes(self):\n",
    "        return self.__dict__\n",
    "    \n"
   ]
  },
  {
   "cell_type": "code",
   "execution_count": 0,
   "metadata": {
    "application/vnd.databricks.v1+cell": {
     "cellMetadata": {
      "byteLimit": 2048000,
      "rowLimit": 10000
     },
     "inputWidgets": {},
     "nuid": "d90f9e40-581e-4c77-93c0-9fa7391c99be",
     "showTitle": true,
     "tableResultSettingsMap": {},
     "title": "LinePlot class"
    }
   },
   "outputs": [],
   "source": [
    "class LinePlot:\n",
    "    __base_fig_size= (25, 15)\n",
    "\n",
    "    def __init__(self, DeclarativeAggregations_obj: DeclarativeAggregations, x, y, fig_size: tuple[int, int]= None):\n",
    "        if not isinstance(DeclarativeAggregations_obj, DeclarativeAggregations):\n",
    "            raise Exception(\"Given object is not a DeclarativeAggregations object!\")\n",
    "        if x not in DeclarativeAggregations_obj.df_trans.columns:\n",
    "            raise Exception(\"Given x column does not exist in the dataframe!\")\n",
    "        if y not in DeclarativeAggregations_obj.df_trans.columns:\n",
    "            raise Exception(\"Given y column does not exist in the dataframe!\")\n",
    "        self.df_pd = DeclarativeAggregations_obj.df_trans.select([x, y, 'entity']).toPandas()\n",
    "        self.x = x\n",
    "        self.y = y\n",
    "        self.fig_size = fig_size if fig_size is not None else LinePlot.__base_fig_size\n",
    "\n",
    "    def plot(self, fig_size: tuple[int, int]= None):\n",
    "        fig, ax = plt.subplots(figsize= self.fig_size)\n",
    "        sns.lineplot(x= self.x, y= self.y, data=self.df_pd, ax= ax, hue= 'entity')\n",
    "        plt.tight_layout()\n",
    "\n"
   ]
  },
  {
   "cell_type": "code",
   "execution_count": 0,
   "metadata": {
    "application/vnd.databricks.v1+cell": {
     "cellMetadata": {
      "byteLimit": 2048000,
      "rowLimit": 10000
     },
     "inputWidgets": {},
     "nuid": "6a09c8f3-d5e9-4f11-8216-ec17c03f339d",
     "showTitle": false,
     "tableResultSettingsMap": {},
     "title": ""
    }
   },
   "outputs": [],
   "source": [
    "df_dam = CreateDF.from_table()"
   ]
  },
  {
   "cell_type": "code",
   "execution_count": 0,
   "metadata": {
    "application/vnd.databricks.v1+cell": {
     "cellMetadata": {
      "byteLimit": 2048000,
      "rowLimit": 10000
     },
     "inputWidgets": {},
     "nuid": "ed22ddae-c691-46a9-958c-5868a5c02338",
     "showTitle": false,
     "tableResultSettingsMap": {},
     "title": ""
    }
   },
   "outputs": [],
   "source": [
    "df_dam_weekly = (\n",
    "    df_dam.withColumn(\"week\", F.date_trunc(\"week\", F.col(\"date\")).cast(DateType()))\n",
    "          # .withColumn(\"prev_week\", F.date_sub(F.col(\"week\"), 7))\n",
    "        # .withColumn(\"month\", F.date_trunc(\"month\", F.col(\"date\")).cast(DateType()))\n",
    "         .selectExpr(\"entity\", \"date\", \"week\", \"heart_points as daily_heart_points\")\n",
    ")"
   ]
  },
  {
   "cell_type": "code",
   "execution_count": 0,
   "metadata": {
    "application/vnd.databricks.v1+cell": {
     "cellMetadata": {
      "byteLimit": 2048000,
      "rowLimit": 10000
     },
     "inputWidgets": {},
     "nuid": "aa4d493a-686a-4bd9-b7d0-5e38577a36aa",
     "showTitle": false,
     "tableResultSettingsMap": {},
     "title": ""
    }
   },
   "outputs": [],
   "source": [
    "da_dam_weekly = DeclarativeAggregations(df_dam_weekly)"
   ]
  },
  {
   "cell_type": "code",
   "execution_count": 0,
   "metadata": {
    "application/vnd.databricks.v1+cell": {
     "cellMetadata": {
      "byteLimit": 2048000,
      "rowLimit": 10000
     },
     "inputWidgets": {},
     "nuid": "62b5f903-5633-48ba-bcbd-9c8a33d1c748",
     "showTitle": false,
     "tableResultSettingsMap": {},
     "title": ""
    }
   },
   "outputs": [],
   "source": [
    "da_dam_weekly.define_entities()"
   ]
  },
  {
   "cell_type": "code",
   "execution_count": 0,
   "metadata": {
    "application/vnd.databricks.v1+cell": {
     "cellMetadata": {
      "byteLimit": 2048000,
      "rowLimit": 10000
     },
     "inputWidgets": {},
     "nuid": "1538ea96-a947-4334-8b54-36234bb2504a",
     "showTitle": false,
     "tableResultSettingsMap": {},
     "title": ""
    }
   },
   "outputs": [],
   "source": [
    "da_dam_weekly.current_attributes()"
   ]
  },
  {
   "cell_type": "code",
   "execution_count": 0,
   "metadata": {
    "application/vnd.databricks.v1+cell": {
     "cellMetadata": {
      "byteLimit": 2048000,
      "rowLimit": 10000
     },
     "inputWidgets": {},
     "nuid": "c2aa2713-7f8f-40c1-9e5a-d228e4b023a4",
     "showTitle": false,
     "tableResultSettingsMap": {
      "0": {
       "dataGridStateBlob": "{\"version\":1,\"tableState\":{\"columnPinning\":{\"left\":[\"#row_number#\"],\"right\":[]},\"columnSizing\":{},\"columnVisibility\":{}},\"settings\":{\"columns\":{}},\"syncTimestamp\":1758611991549}",
       "filterBlob": null,
       "queryPlanFiltersBlob": null,
       "tableResultIndex": 0
      }
     },
     "title": ""
    }
   },
   "outputs": [],
   "source": [
    "da_dam_weekly.df.display()"
   ]
  },
  {
   "cell_type": "code",
   "execution_count": 0,
   "metadata": {
    "application/vnd.databricks.v1+cell": {
     "cellMetadata": {
      "byteLimit": 2048000,
      "rowLimit": 10000
     },
     "inputWidgets": {},
     "nuid": "f77632f8-5c57-4241-8477-690365d7461c",
     "showTitle": false,
     "tableResultSettingsMap": {},
     "title": ""
    }
   },
   "outputs": [],
   "source": [
    "da_dam_weekly.build_agg_config(agg_metric=\"sum\", group_by_cols=[\"entity\", \"week\"], agg_on_col=\"daily_heart_points\", name= \"current_week_heart_points\")"
   ]
  },
  {
   "cell_type": "code",
   "execution_count": 0,
   "metadata": {
    "application/vnd.databricks.v1+cell": {
     "cellMetadata": {
      "byteLimit": 2048000,
      "rowLimit": 10000
     },
     "inputWidgets": {},
     "nuid": "467e2b40-8c62-4b6e-97cb-8bc992369ffb",
     "showTitle": false,
     "tableResultSettingsMap": {},
     "title": ""
    }
   },
   "outputs": [],
   "source": [
    "da_dam_weekly.build_agg_config(agg_metric=\"lag\", group_by_cols=[\"entity\"], agg_on_col=\"current_week_heart_points\", order_by= \"week\", offset= 7, default= 0, name= \"prev_week_heart_points\")"
   ]
  },
  {
   "cell_type": "code",
   "execution_count": 0,
   "metadata": {
    "application/vnd.databricks.v1+cell": {
     "cellMetadata": {
      "byteLimit": 2048000,
      "rowLimit": 10000
     },
     "inputWidgets": {},
     "nuid": "fe1625b3-b17a-423e-85b2-cca8ba9374cf",
     "showTitle": false,
     "tableResultSettingsMap": {
      "0": {
       "dataGridStateBlob": "{\"version\":1,\"tableState\":{\"columnPinning\":{\"left\":[\"#row_number#\"],\"right\":[]},\"columnSizing\":{},\"columnVisibility\":{}},\"settings\":{\"columns\":{}},\"syncTimestamp\":1758185647846}",
       "filterBlob": null,
       "queryPlanFiltersBlob": null,
       "tableResultIndex": 0
      }
     },
     "title": ""
    }
   },
   "outputs": [],
   "source": [
    "da_dam_weekly.build_trans_df()\n",
    "da_dam_weekly.df_trans.display()"
   ]
  },
  {
   "cell_type": "code",
   "execution_count": 0,
   "metadata": {
    "application/vnd.databricks.v1+cell": {
     "cellMetadata": {
      "byteLimit": 2048000,
      "rowLimit": 10000
     },
     "inputWidgets": {},
     "nuid": "b85a2887-4014-42ee-8a3a-5b5e1f9cd4e9",
     "showTitle": false,
     "tableResultSettingsMap": {},
     "title": ""
    }
   },
   "outputs": [],
   "source": [
    "da_dam_weekly.clear_agg_config()\n",
    "da_dam_weekly.clear_df_trans()"
   ]
  },
  {
   "cell_type": "code",
   "execution_count": 0,
   "metadata": {
    "application/vnd.databricks.v1+cell": {
     "cellMetadata": {
      "byteLimit": 2048000,
      "rowLimit": 10000
     },
     "inputWidgets": {},
     "nuid": "81e35a60-e166-422e-aa57-81df7b651a5e",
     "showTitle": false,
     "tableResultSettingsMap": {},
     "title": ""
    }
   },
   "outputs": [],
   "source": [
    "LinePlot(da_dam_weekly, \"week\", \"current_week_heart_points\").plot()"
   ]
  },
  {
   "cell_type": "code",
   "execution_count": 0,
   "metadata": {
    "application/vnd.databricks.v1+cell": {
     "cellMetadata": {},
     "inputWidgets": {},
     "nuid": "2ca7f423-47fe-4347-9ac7-e3970360a778",
     "showTitle": false,
     "tableResultSettingsMap": {},
     "title": ""
    }
   },
   "outputs": [],
   "source": [
    "        # for window_part_col in self.window_part_cols:\n",
    "        #     w_spec = W.partitionBy(window_part_col)\n",
    "        #     if(self.agg_on_cols is None):\n",
    "        #         self.df_trans = self.df_trans.withColumn(f\"count_all_rows_over_{\"_and_\".join(window_part_col)}\", F.count(F.lit(1)).over(w_spec))\n",
    "        #     else:\n",
    "        #         for agg_on_col in self.agg_on_cols:\n",
    "        #             for agg_metric in self.agg_metrics:\n",
    "        #                 expr = get_expr_for_agg_metric(agg_metric, agg_on_col)\n",
    "        #                 if(agg_metric == \"lag\" or agg_metric == \"rank\"):\n",
    "        #                     w_spec = W.partitionBy(window_part_col).orderBy(self.w_order_by_cols)\n",
    "        #                     self.df_trans = self.df_trans.withColumn(\n",
    "        #                         f\"{agg_metric}_of_{agg_on_col}_over_{\"_and_\".join(window_part_col)}_ord_by_{\"_and_\".join(self.w_order_by_cols)}\",\n",
    "        #                         expr.over(w_spec)\n",
    "        #                     )\n",
    "        #                 else:\n",
    "        #                     self.df_trans = self.df_trans.withColumn(\n",
    "        #                         f\"{agg_metric}_of_{agg_on_col}_over_{\"_and_\".join(window_part_col)}\",\n",
    "        #                         expr.over(w_spec)\n",
    "        #                     )      "
   ]
  },
  {
   "cell_type": "code",
   "execution_count": 0,
   "metadata": {
    "application/vnd.databricks.v1+cell": {
     "cellMetadata": {
      "byteLimit": 2048000,
      "rowLimit": 10000
     },
     "inputWidgets": {},
     "nuid": "afc8f91a-f90e-4297-95db-bd78fe95cca5",
     "showTitle": false,
     "tableResultSettingsMap": {},
     "title": ""
    }
   },
   "outputs": [],
   "source": [
    "spark.sql(\"show tables in google_fit.silver \").display()"
   ]
  },
  {
   "cell_type": "code",
   "execution_count": 0,
   "metadata": {
    "application/vnd.databricks.v1+cell": {
     "cellMetadata": {
      "byteLimit": 2048000,
      "rowLimit": 10000
     },
     "inputWidgets": {},
     "nuid": "7abbe9fc-f612-42e5-a41a-1f72a3117410",
     "showTitle": false,
     "tableResultSettingsMap": {},
     "title": ""
    }
   },
   "outputs": [],
   "source": [
    "type(p.df)"
   ]
  },
  {
   "cell_type": "code",
   "execution_count": 0,
   "metadata": {
    "application/vnd.databricks.v1+cell": {
     "cellMetadata": {
      "byteLimit": 2048000,
      "rowLimit": 10000
     },
     "inputWidgets": {},
     "nuid": "4f5d5cac-793e-4942-b69d-5b9b9e4d5b6f",
     "showTitle": false,
     "tableResultSettingsMap": {},
     "title": ""
    }
   },
   "outputs": [],
   "source": [
    "null_check(df_dam)"
   ]
  },
  {
   "cell_type": "code",
   "execution_count": 0,
   "metadata": {
    "application/vnd.databricks.v1+cell": {
     "cellMetadata": {
      "byteLimit": 2048000,
      "rowLimit": 10000
     },
     "inputWidgets": {},
     "nuid": "7b05b34e-7a0a-4127-ad24-bd6bdc173ab2",
     "showTitle": false,
     "tableResultSettingsMap": {},
     "title": ""
    }
   },
   "outputs": [],
   "source": [
    "df_dam.columns"
   ]
  },
  {
   "cell_type": "code",
   "execution_count": 0,
   "metadata": {
    "application/vnd.databricks.v1+cell": {
     "cellMetadata": {
      "byteLimit": 2048000,
      "rowLimit": 10000
     },
     "inputWidgets": {},
     "nuid": "ab11e2f6-1a51-4167-8bdc-34954efbfd90",
     "showTitle": false,
     "tableResultSettingsMap": {},
     "title": ""
    }
   },
   "outputs": [],
   "source": [
    "df_dam_test = (\n",
    "    df_dam.select(['entity', 'date', 'distance_m', 'step_count', 'heart_points', 'heart_minutes', 'move_minutes_count'])\n",
    "        .withColumn('week', F.next_day(F.col('date'), 'sunday'))\n",
    "        .withColumn('month', F.date_trunc('month', F.col('date')).cast(DateType()))\n",
    "        .orderBy(F.col('date').desc())\n",
    ")"
   ]
  },
  {
   "cell_type": "code",
   "execution_count": 0,
   "metadata": {
    "application/vnd.databricks.v1+cell": {
     "cellMetadata": {
      "byteLimit": 2048000,
      "rowLimit": 10000
     },
     "inputWidgets": {},
     "nuid": "fe72481c-292d-42e0-8b9f-753a0a7f7c09",
     "showTitle": false,
     "tableResultSettingsMap": {
      "0": {
       "dataGridStateBlob": "{\"version\":1,\"tableState\":{\"columnPinning\":{\"left\":[\"#row_number#\"],\"right\":[]},\"columnSizing\":{\"date\":94},\"columnVisibility\":{}},\"settings\":{\"columns\":{}},\"syncTimestamp\":1757840162889}",
       "filterBlob": null,
       "queryPlanFiltersBlob": null,
       "tableResultIndex": 0
      }
     },
     "title": ""
    }
   },
   "outputs": [],
   "source": [
    "display(df_dam_test)"
   ]
  },
  {
   "cell_type": "code",
   "execution_count": 0,
   "metadata": {
    "application/vnd.databricks.v1+cell": {
     "cellMetadata": {
      "byteLimit": 2048000,
      "rowLimit": 10000
     },
     "inputWidgets": {},
     "nuid": "a45385d2-c7bc-4711-b282-9b62c746d7e1",
     "showTitle": false,
     "tableResultSettingsMap": {},
     "title": ""
    }
   },
   "outputs": [],
   "source": [
    "df_dam_test_agg = add_agg_metrics(df= df_dam_test)"
   ]
  },
  {
   "cell_type": "code",
   "execution_count": 0,
   "metadata": {
    "application/vnd.databricks.v1+cell": {
     "cellMetadata": {
      "byteLimit": 2048000,
      "rowLimit": 10000
     },
     "inputWidgets": {},
     "nuid": "bcfddc0a-94f3-48c1-9f66-57c47d78f1a1",
     "showTitle": false,
     "tableResultSettingsMap": {},
     "title": ""
    }
   },
   "outputs": [],
   "source": [
    "display(df_dam_test_agg)"
   ]
  },
  {
   "cell_type": "code",
   "execution_count": 0,
   "metadata": {
    "application/vnd.databricks.v1+cell": {
     "cellMetadata": {
      "byteLimit": 2048000,
      "rowLimit": 10000
     },
     "inputWidgets": {},
     "nuid": "00320050-198f-4fd1-be3c-22b45b2221eb",
     "showTitle": false,
     "tableResultSettingsMap": {},
     "title": ""
    }
   },
   "outputs": [],
   "source": [
    "def plot_linegraphs(df_pd, figsize=(60, 30), graphs= None, category= 'entity'):\n",
    "    if isinstance(df_pd, DataFrame):\n",
    "        df_pd = df_pd.toPandas()\n",
    "    if graphs is None:\n",
    "        graphs = {\n",
    "            'date': [],\n",
    "            'week': [],\n",
    "            'month': []\n",
    "        }\n",
    "        cols = list(df_pd.columns)\n",
    "        for col in cols:\n",
    "            if 'daily' in col:\n",
    "                graphs['date'].append(col)\n",
    "            elif 'weekly' in col:\n",
    "                graphs['week'].append(col)\n",
    "            elif 'monthly' in col:\n",
    "                graphs['month'].append(col)\n",
    "    fig, axs = plt.subplots(ncols=max([len(graphs[k]) for k in graphs.keys()]), nrows= len(graphs) , figsize= figsize)\n",
    "    for xi, x in enumerate(graphs.keys()):\n",
    "        for yi, y in enumerate(graphs[x]):\n",
    "            sns.lineplot(data= df_pd, x= df_pd[x], y= df_pd[y], hue= category, ax= axs[xi, yi])\n",
    "            axs[xi, yi].set_title(f\"{y}_by_{x}\")\n",
    "    fig.tight_layout()\n"
   ]
  },
  {
   "cell_type": "code",
   "execution_count": 0,
   "metadata": {
    "application/vnd.databricks.v1+cell": {
     "cellMetadata": {
      "byteLimit": 2048000,
      "rowLimit": 10000
     },
     "inputWidgets": {},
     "nuid": "a7545f18-aeae-4112-a11f-bb76d72a917a",
     "showTitle": false,
     "tableResultSettingsMap": {},
     "title": ""
    }
   },
   "outputs": [],
   "source": [
    "df_dam_test_agg_pd = df_dam_test_agg.toPandas()"
   ]
  },
  {
   "cell_type": "code",
   "execution_count": 0,
   "metadata": {
    "application/vnd.databricks.v1+cell": {
     "cellMetadata": {
      "byteLimit": 2048000,
      "rowLimit": 10000
     },
     "inputWidgets": {},
     "nuid": "82bc0228-8676-42ad-8364-5a4bd11a7996",
     "showTitle": false,
     "tableResultSettingsMap": {},
     "title": ""
    }
   },
   "outputs": [],
   "source": [
    "plot_linegraphs(df_dam_test_agg_pd)"
   ]
  },
  {
   "cell_type": "markdown",
   "metadata": {
    "application/vnd.databricks.v1+cell": {
     "cellMetadata": {},
     "inputWidgets": {},
     "nuid": "f7f23ce3-bc40-436b-96e7-07b288366ad2",
     "showTitle": false,
     "tableResultSettingsMap": {},
     "title": ""
    }
   },
   "source": [
    "activities"
   ]
  },
  {
   "cell_type": "code",
   "execution_count": 0,
   "metadata": {
    "application/vnd.databricks.v1+cell": {
     "cellMetadata": {
      "byteLimit": 2048000,
      "rowLimit": 10000
     },
     "inputWidgets": {},
     "nuid": "fb38678d-5c0a-426a-a856-238b2a53e947",
     "showTitle": false,
     "tableResultSettingsMap": {},
     "title": ""
    }
   },
   "outputs": [],
   "source": [
    "df_act = spark.table(\"google_fit.silver.activities\")"
   ]
  },
  {
   "cell_type": "code",
   "execution_count": 0,
   "metadata": {
    "application/vnd.databricks.v1+cell": {
     "cellMetadata": {
      "byteLimit": 2048000,
      "rowLimit": 10000
     },
     "inputWidgets": {},
     "nuid": "363d2007-0008-45f9-807c-0d681aa64ac5",
     "showTitle": false,
     "tableResultSettingsMap": {
      "0": {
       "dataGridStateBlob": "{\"version\":1,\"tableState\":{\"columnPinning\":{\"left\":[\"#row_number#\"],\"right\":[]},\"columnSizing\":{},\"columnVisibility\":{}},\"settings\":{\"columns\":{}},\"syncTimestamp\":1757759010111}",
       "filterBlob": null,
       "queryPlanFiltersBlob": null,
       "tableResultIndex": 0
      }
     },
     "title": ""
    }
   },
   "outputs": [],
   "source": [
    "display(df_act)"
   ]
  },
  {
   "cell_type": "code",
   "execution_count": 0,
   "metadata": {
    "application/vnd.databricks.v1+cell": {
     "cellMetadata": {
      "byteLimit": 2048000,
      "rowLimit": 10000
     },
     "inputWidgets": {},
     "nuid": "11812215-a500-46ea-ac11-c64f1a5a81b7",
     "showTitle": false,
     "tableResultSettingsMap": {},
     "title": ""
    }
   },
   "outputs": [],
   "source": [
    "null_check(df_act)"
   ]
  },
  {
   "cell_type": "markdown",
   "metadata": {
    "application/vnd.databricks.v1+cell": {
     "cellMetadata": {},
     "inputWidgets": {},
     "nuid": "e4c7dff1-744d-465a-8e59-f55ece0346a7",
     "showTitle": false,
     "tableResultSettingsMap": {},
     "title": ""
    }
   },
   "source": [
    "all_sessions"
   ]
  },
  {
   "cell_type": "code",
   "execution_count": 0,
   "metadata": {
    "application/vnd.databricks.v1+cell": {
     "cellMetadata": {
      "byteLimit": 2048000,
      "rowLimit": 10000
     },
     "inputWidgets": {},
     "nuid": "e29a6abc-7a66-4c70-bfb9-45c62819b4e6",
     "showTitle": false,
     "tableResultSettingsMap": {},
     "title": ""
    }
   },
   "outputs": [],
   "source": [
    "df_ses = spark.table(\"google_fit.silver.all_sessions\")"
   ]
  },
  {
   "cell_type": "code",
   "execution_count": 0,
   "metadata": {
    "application/vnd.databricks.v1+cell": {
     "cellMetadata": {
      "byteLimit": 2048000,
      "rowLimit": 10000
     },
     "inputWidgets": {},
     "nuid": "7f6814b2-7872-427e-86a5-bf6d1a7d4682",
     "showTitle": false,
     "tableResultSettingsMap": {
      "0": {
       "dataGridStateBlob": "{\"version\":1,\"tableState\":{\"columnPinning\":{\"left\":[\"#row_number#\"],\"right\":[]},\"columnSizing\":{},\"columnVisibility\":{}},\"settings\":{\"columns\":{}},\"syncTimestamp\":1757759134843}",
       "filterBlob": null,
       "queryPlanFiltersBlob": null,
       "tableResultIndex": 0
      }
     },
     "title": ""
    }
   },
   "outputs": [],
   "source": [
    "display(df_ses)"
   ]
  },
  {
   "cell_type": "code",
   "execution_count": 0,
   "metadata": {
    "application/vnd.databricks.v1+cell": {
     "cellMetadata": {
      "byteLimit": 2048000,
      "rowLimit": 10000
     },
     "inputWidgets": {},
     "nuid": "b390ab2b-9e8a-436d-bf72-8c8c94c10bdb",
     "showTitle": false,
     "tableResultSettingsMap": {},
     "title": ""
    }
   },
   "outputs": [],
   "source": [
    "null_check(df_ses)"
   ]
  },
  {
   "cell_type": "code",
   "execution_count": 0,
   "metadata": {
    "application/vnd.databricks.v1+cell": {
     "cellMetadata": {
      "byteLimit": 2048000,
      "rowLimit": 10000
     },
     "inputWidgets": {},
     "nuid": "af61a296-ea4a-4cdd-b84d-7618b6ef3ba8",
     "showTitle": false,
     "tableResultSettingsMap": {},
     "title": ""
    }
   },
   "outputs": [],
   "source": [
    "display(df_ses.groupBy('entity').count())"
   ]
  }
 ],
 "metadata": {
  "application/vnd.databricks.v1+notebook": {
   "computePreferences": {
    "hardware": {
     "accelerator": null,
     "gpuPoolId": null,
     "memory": null
    }
   },
   "dashboards": [],
   "environmentMetadata": {
    "base_environment": "",
    "environment_version": "3"
   },
   "inputWidgetPreferences": null,
   "language": "python",
   "notebookMetadata": {
    "mostRecentlyExecutedCommandWithImplicitDF": {
     "commandId": 6101890328075365,
     "dataframes": [
      "_sqldf"
     ]
    },
    "pythonIndentUnit": 4
   },
   "notebookName": "adhoc analysis",
   "widgets": {}
  },
  "language_info": {
   "name": "python"
  }
 },
 "nbformat": 4,
 "nbformat_minor": 0
}
