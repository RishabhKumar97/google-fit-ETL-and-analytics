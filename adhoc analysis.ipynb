{
 "cells": [
  {
   "cell_type": "code",
   "execution_count": 0,
   "metadata": {
    "application/vnd.databricks.v1+cell": {
     "cellMetadata": {
      "byteLimit": 2048000,
      "rowLimit": 10000
     },
     "inputWidgets": {},
     "nuid": "aa9bacb9-ad70-429b-9950-1b947976759e",
     "showTitle": false,
     "tableResultSettingsMap": {},
     "title": ""
    }
   },
   "outputs": [],
   "source": [
    "import pyspark.sql.functions as F\n",
    "from pyspark.sql.types import DateType\n",
    "from pyspark.sql.window import Window as W\n",
    "import matplotlib.pyplot as plt\n",
    "import seaborn as sns\n",
    "import pandas as pd\n",
    "from pyspark.sql import DataFrame"
   ]
  },
  {
   "cell_type": "code",
   "execution_count": 0,
   "metadata": {
    "application/vnd.databricks.v1+cell": {
     "cellMetadata": {
      "byteLimit": 2048000,
      "rowLimit": 10000
     },
     "inputWidgets": {},
     "nuid": "08c00fbd-4e6f-40e4-b4f8-dbb0ea01fc4e",
     "showTitle": false,
     "tableResultSettingsMap": {},
     "title": ""
    }
   },
   "outputs": [],
   "source": [
    "def null_check(df):\n",
    "    null_col_names = list()\n",
    "    for col in df.columns:\n",
    "        if df.filter(F.col(col).isNull()).count() > 0:\n",
    "            null_col_names.append(col)\n",
    "        else:\n",
    "            continue\n",
    "    return null_col_names"
   ]
  },
  {
   "cell_type": "code",
   "execution_count": 0,
   "metadata": {
    "application/vnd.databricks.v1+cell": {
     "cellMetadata": {
      "byteLimit": 2048000,
      "rowLimit": 10000
     },
     "inputWidgets": {},
     "nuid": "47860d8e-4253-4e54-bf65-875c1aa81e19",
     "showTitle": false,
     "tableResultSettingsMap": {},
     "title": ""
    }
   },
   "outputs": [],
   "source": [
    "def get_tables(catalog_name, schema_name):\n",
    "    return [\n",
    "        row[\"table\"]\n",
    "        for row in spark.sql(\n",
    "            f\"SHOW TABLES IN {catalog_name}.{schema_name}\"\n",
    "        ).selectExpr(\n",
    "            f\"concat_ws('.', '{catalog_name}', database, tableName) as table\"\n",
    "        ).filter(\"\"\" table not rlike \"_sqldf\" \"\"\")\n",
    "        .collect()\n",
    "    ]"
   ]
  },
  {
   "cell_type": "code",
   "execution_count": 0,
   "metadata": {
    "application/vnd.databricks.v1+cell": {
     "cellMetadata": {
      "byteLimit": 2048000,
      "rowLimit": 10000
     },
     "inputWidgets": {},
     "nuid": "13d15616-200f-4e59-8adc-26744bc4e0d3",
     "showTitle": false,
     "tableResultSettingsMap": {},
     "title": ""
    }
   },
   "outputs": [],
   "source": [
    "get_tables(\"google_fit\", \"silver\")"
   ]
  },
  {
   "cell_type": "markdown",
   "metadata": {
    "application/vnd.databricks.v1+cell": {
     "cellMetadata": {},
     "inputWidgets": {},
     "nuid": "84100f1f-6b53-4cbe-b81f-17ed5b558502",
     "showTitle": false,
     "tableResultSettingsMap": {},
     "title": ""
    }
   },
   "source": [
    "daily_activity_metrics"
   ]
  },
  {
   "cell_type": "code",
   "execution_count": 0,
   "metadata": {
    "application/vnd.databricks.v1+cell": {
     "cellMetadata": {
      "byteLimit": 2048000,
      "rowLimit": 10000
     },
     "inputWidgets": {},
     "nuid": "736f566e-75e7-46b6-ac06-a554fc0cd21e",
     "showTitle": false,
     "tableResultSettingsMap": {},
     "title": ""
    }
   },
   "outputs": [],
   "source": [
    "df_dam = spark.table(\"google_fit.silver.daily_activity_metrics\")"
   ]
  },
  {
   "cell_type": "code",
   "execution_count": 0,
   "metadata": {
    "application/vnd.databricks.v1+cell": {
     "cellMetadata": {
      "byteLimit": 2048000,
      "rowLimit": 10000
     },
     "inputWidgets": {},
     "nuid": "57efddea-4408-4ad1-a5c9-b1a9caaac5af",
     "showTitle": false,
     "tableResultSettingsMap": {
      "0": {
       "dataGridStateBlob": "{\"version\":1,\"tableState\":{\"columnPinning\":{\"left\":[\"#row_number#\"],\"right\":[]},\"columnSizing\":{},\"columnVisibility\":{}},\"settings\":{\"columns\":{}},\"syncTimestamp\":1757755514482}",
       "filterBlob": null,
       "queryPlanFiltersBlob": null,
       "tableResultIndex": 0
      }
     },
     "title": ""
    }
   },
   "outputs": [],
   "source": [
    "display(df_dam)"
   ]
  },
  {
   "cell_type": "code",
   "execution_count": 0,
   "metadata": {
    "application/vnd.databricks.v1+cell": {
     "cellMetadata": {
      "byteLimit": 2048000,
      "rowLimit": 10000
     },
     "inputWidgets": {},
     "nuid": "4f5d5cac-793e-4942-b69d-5b9b9e4d5b6f",
     "showTitle": false,
     "tableResultSettingsMap": {},
     "title": ""
    }
   },
   "outputs": [],
   "source": [
    "null_check(df_dam)"
   ]
  },
  {
   "cell_type": "code",
   "execution_count": 0,
   "metadata": {
    "application/vnd.databricks.v1+cell": {
     "cellMetadata": {
      "byteLimit": 2048000,
      "rowLimit": 10000
     },
     "inputWidgets": {},
     "nuid": "7b05b34e-7a0a-4127-ad24-bd6bdc173ab2",
     "showTitle": false,
     "tableResultSettingsMap": {},
     "title": ""
    }
   },
   "outputs": [],
   "source": [
    "df_dam.columns"
   ]
  },
  {
   "cell_type": "code",
   "execution_count": 0,
   "metadata": {
    "application/vnd.databricks.v1+cell": {
     "cellMetadata": {
      "byteLimit": 2048000,
      "rowLimit": 10000
     },
     "inputWidgets": {},
     "nuid": "9078780d-4223-4045-9782-e5a10e05bc4d",
     "showTitle": false,
     "tableResultSettingsMap": {},
     "title": ""
    }
   },
   "outputs": [],
   "source": [
    "def add_agg_metrics(\n",
    "    df,\n",
    "    partition_cols=[\"entity\"],\n",
    "    granularity_cols=[\"date\", \"month\", \"week\"],\n",
    "    agg_on_cols=[\n",
    "        \"distance_m\"\n",
    "        # \"step_count\",\n",
    "        # \"heart_points\",\n",
    "        # \"heart_minutes\",\n",
    "        # \"move_minutes_count\",\n",
    "    ],\n",
    "    agg_metrics=[\"avg\", \"max\", \"min\", \"sum\"]\n",
    "):\n",
    "    map_granularity_col_to_name = lambda granularity_col: (\n",
    "        \"weekly\"\n",
    "        if granularity_col == \"week\"\n",
    "        else (\"monthly\" if granularity_col == \"month\" else \"daily\")\n",
    "    )\n",
    "    def get_expr_for_agg_metric(agg_metric, agg_on_col):\n",
    "        if agg_metric == \"avg\":\n",
    "            return F.avg(F.col(agg_on_col))\n",
    "        elif agg_metric == \"max\":\n",
    "            return F.max(F.col(agg_on_col))\n",
    "        elif agg_metric == \"min\":\n",
    "            return F.min(F.col(agg_on_col))\n",
    "        elif agg_metric == \"sum\":\n",
    "            return F.sum(F.col(agg_on_col))\n",
    "\n",
    "    for granularity_col in granularity_cols:\n",
    "        partition_col_list = []\n",
    "        partition_col_list.extend(partition_cols)\n",
    "        partition_col_list.append(granularity_col)\n",
    "        print(\"partition_col_list: \", partition_col_list)\n",
    "        w_spec = W.partitionBy(partition_col_list)\n",
    "        for agg_on_col in agg_on_cols:\n",
    "            for agg_metric in agg_metrics:\n",
    "                expr = get_expr_for_agg_metric(agg_metric, agg_on_col)\n",
    "                # print(\"expr: \", expr)\n",
    "                # print(\" expr.over(w_spec): \",  expr.over(w_spec))\n",
    "                df = df.withColumn(\n",
    "                    f\"{map_granularity_col_to_name(granularity_col)}_{agg_on_col}_{agg_metric}\",\n",
    "                    expr.over(w_spec)\n",
    "                )\n",
    "    return df"
   ]
  },
  {
   "cell_type": "code",
   "execution_count": 0,
   "metadata": {
    "application/vnd.databricks.v1+cell": {
     "cellMetadata": {
      "byteLimit": 2048000,
      "rowLimit": 10000
     },
     "inputWidgets": {},
     "nuid": "ab11e2f6-1a51-4167-8bdc-34954efbfd90",
     "showTitle": false,
     "tableResultSettingsMap": {},
     "title": ""
    }
   },
   "outputs": [],
   "source": [
    "df_dam_test = (\n",
    "    df_dam.select(['entity', 'date', 'distance_m', 'step_count', 'heart_points', 'heart_minutes', 'move_minutes_count'])\n",
    "        .withColumn('week', F.next_day(F.col('date'), 'sunday'))\n",
    "        .withColumn('month', F.date_trunc('month', F.col('date')).cast(DateType()))\n",
    "        .orderBy(F.col('date').desc())\n",
    ")"
   ]
  },
  {
   "cell_type": "code",
   "execution_count": 0,
   "metadata": {
    "application/vnd.databricks.v1+cell": {
     "cellMetadata": {
      "byteLimit": 2048000,
      "rowLimit": 10000
     },
     "inputWidgets": {},
     "nuid": "fe72481c-292d-42e0-8b9f-753a0a7f7c09",
     "showTitle": false,
     "tableResultSettingsMap": {
      "0": {
       "dataGridStateBlob": "{\"version\":1,\"tableState\":{\"columnPinning\":{\"left\":[\"#row_number#\"],\"right\":[]},\"columnSizing\":{\"date\":94},\"columnVisibility\":{}},\"settings\":{\"columns\":{}},\"syncTimestamp\":1757840162889}",
       "filterBlob": null,
       "queryPlanFiltersBlob": null,
       "tableResultIndex": 0
      }
     },
     "title": ""
    }
   },
   "outputs": [],
   "source": [
    "display(df_dam_test)"
   ]
  },
  {
   "cell_type": "code",
   "execution_count": 0,
   "metadata": {
    "application/vnd.databricks.v1+cell": {
     "cellMetadata": {
      "byteLimit": 2048000,
      "rowLimit": 10000
     },
     "inputWidgets": {},
     "nuid": "a45385d2-c7bc-4711-b282-9b62c746d7e1",
     "showTitle": false,
     "tableResultSettingsMap": {},
     "title": ""
    }
   },
   "outputs": [],
   "source": [
    "df_dam_test_agg = add_agg_metrics(df= df_dam_test)"
   ]
  },
  {
   "cell_type": "code",
   "execution_count": 0,
   "metadata": {
    "application/vnd.databricks.v1+cell": {
     "cellMetadata": {
      "byteLimit": 2048000,
      "rowLimit": 10000
     },
     "inputWidgets": {},
     "nuid": "bcfddc0a-94f3-48c1-9f66-57c47d78f1a1",
     "showTitle": false,
     "tableResultSettingsMap": {},
     "title": ""
    }
   },
   "outputs": [],
   "source": [
    "display(df_dam_test_agg)"
   ]
  },
  {
   "cell_type": "code",
   "execution_count": 0,
   "metadata": {
    "application/vnd.databricks.v1+cell": {
     "cellMetadata": {
      "byteLimit": 2048000,
      "rowLimit": 10000
     },
     "inputWidgets": {},
     "nuid": "00320050-198f-4fd1-be3c-22b45b2221eb",
     "showTitle": false,
     "tableResultSettingsMap": {},
     "title": ""
    }
   },
   "outputs": [],
   "source": [
    "def plot_linegraphs(df_pd, figsize=(60, 30), graphs= None, category= 'entity'):\n",
    "    if isinstance(df_pd, DataFrame):\n",
    "        df_pd = df_pd.toPandas()\n",
    "    if graphs is None:\n",
    "        graphs = {\n",
    "            'date': [],\n",
    "            'week': [],\n",
    "            'month': []\n",
    "        }\n",
    "        cols = list(df_pd.columns)\n",
    "        for col in cols:\n",
    "            if 'daily' in col:\n",
    "                graphs['date'].append(col)\n",
    "            elif 'weekly' in col:\n",
    "                graphs['week'].append(col)\n",
    "            elif 'monthly' in col:\n",
    "                graphs['month'].append(col)\n",
    "    fig, axs = plt.subplots(ncols=max([len(graphs[k]) for k in graphs.keys()]), nrows= len(graphs) , figsize= figsize)\n",
    "    for xi, x in enumerate(graphs.keys()):\n",
    "        for yi, y in enumerate(graphs[x]):\n",
    "            sns.lineplot(data= df_pd, x= df_pd[x], y= df_pd[y], hue= category, ax= axs[xi, yi])\n",
    "            axs[xi, yi].set_title(f\"{y}_by_{x}\")\n",
    "    fig.tight_layout()\n"
   ]
  },
  {
   "cell_type": "code",
   "execution_count": 0,
   "metadata": {
    "application/vnd.databricks.v1+cell": {
     "cellMetadata": {
      "byteLimit": 2048000,
      "rowLimit": 10000
     },
     "inputWidgets": {},
     "nuid": "a7545f18-aeae-4112-a11f-bb76d72a917a",
     "showTitle": false,
     "tableResultSettingsMap": {},
     "title": ""
    }
   },
   "outputs": [],
   "source": [
    "df_dam_test_agg_pd = df_dam_test_agg.toPandas()"
   ]
  },
  {
   "cell_type": "code",
   "execution_count": 0,
   "metadata": {
    "application/vnd.databricks.v1+cell": {
     "cellMetadata": {
      "byteLimit": 2048000,
      "rowLimit": 10000
     },
     "inputWidgets": {},
     "nuid": "82bc0228-8676-42ad-8364-5a4bd11a7996",
     "showTitle": false,
     "tableResultSettingsMap": {},
     "title": ""
    }
   },
   "outputs": [],
   "source": [
    "plot_linegraphs(df_dam_test_agg_pd)"
   ]
  },
  {
   "cell_type": "markdown",
   "metadata": {
    "application/vnd.databricks.v1+cell": {
     "cellMetadata": {},
     "inputWidgets": {},
     "nuid": "f7f23ce3-bc40-436b-96e7-07b288366ad2",
     "showTitle": false,
     "tableResultSettingsMap": {},
     "title": ""
    }
   },
   "source": [
    "activities"
   ]
  },
  {
   "cell_type": "code",
   "execution_count": 0,
   "metadata": {
    "application/vnd.databricks.v1+cell": {
     "cellMetadata": {
      "byteLimit": 2048000,
      "rowLimit": 10000
     },
     "inputWidgets": {},
     "nuid": "fb38678d-5c0a-426a-a856-238b2a53e947",
     "showTitle": false,
     "tableResultSettingsMap": {},
     "title": ""
    }
   },
   "outputs": [],
   "source": [
    "df_act = spark.table(\"google_fit.silver.activities\")"
   ]
  },
  {
   "cell_type": "code",
   "execution_count": 0,
   "metadata": {
    "application/vnd.databricks.v1+cell": {
     "cellMetadata": {
      "byteLimit": 2048000,
      "rowLimit": 10000
     },
     "inputWidgets": {},
     "nuid": "363d2007-0008-45f9-807c-0d681aa64ac5",
     "showTitle": false,
     "tableResultSettingsMap": {
      "0": {
       "dataGridStateBlob": "{\"version\":1,\"tableState\":{\"columnPinning\":{\"left\":[\"#row_number#\"],\"right\":[]},\"columnSizing\":{},\"columnVisibility\":{}},\"settings\":{\"columns\":{}},\"syncTimestamp\":1757759010111}",
       "filterBlob": null,
       "queryPlanFiltersBlob": null,
       "tableResultIndex": 0
      }
     },
     "title": ""
    }
   },
   "outputs": [],
   "source": [
    "display(df_act)"
   ]
  },
  {
   "cell_type": "code",
   "execution_count": 0,
   "metadata": {
    "application/vnd.databricks.v1+cell": {
     "cellMetadata": {
      "byteLimit": 2048000,
      "rowLimit": 10000
     },
     "inputWidgets": {},
     "nuid": "11812215-a500-46ea-ac11-c64f1a5a81b7",
     "showTitle": false,
     "tableResultSettingsMap": {},
     "title": ""
    }
   },
   "outputs": [],
   "source": [
    "null_check(df_act)"
   ]
  },
  {
   "cell_type": "markdown",
   "metadata": {
    "application/vnd.databricks.v1+cell": {
     "cellMetadata": {},
     "inputWidgets": {},
     "nuid": "e4c7dff1-744d-465a-8e59-f55ece0346a7",
     "showTitle": false,
     "tableResultSettingsMap": {},
     "title": ""
    }
   },
   "source": [
    "all_sessions"
   ]
  },
  {
   "cell_type": "code",
   "execution_count": 0,
   "metadata": {
    "application/vnd.databricks.v1+cell": {
     "cellMetadata": {
      "byteLimit": 2048000,
      "rowLimit": 10000
     },
     "inputWidgets": {},
     "nuid": "e29a6abc-7a66-4c70-bfb9-45c62819b4e6",
     "showTitle": false,
     "tableResultSettingsMap": {},
     "title": ""
    }
   },
   "outputs": [],
   "source": [
    "df_ses = spark.table(\"google_fit.silver.all_sessions\")"
   ]
  },
  {
   "cell_type": "code",
   "execution_count": 0,
   "metadata": {
    "application/vnd.databricks.v1+cell": {
     "cellMetadata": {
      "byteLimit": 2048000,
      "rowLimit": 10000
     },
     "inputWidgets": {},
     "nuid": "7f6814b2-7872-427e-86a5-bf6d1a7d4682",
     "showTitle": false,
     "tableResultSettingsMap": {
      "0": {
       "dataGridStateBlob": "{\"version\":1,\"tableState\":{\"columnPinning\":{\"left\":[\"#row_number#\"],\"right\":[]},\"columnSizing\":{},\"columnVisibility\":{}},\"settings\":{\"columns\":{}},\"syncTimestamp\":1757759134843}",
       "filterBlob": null,
       "queryPlanFiltersBlob": null,
       "tableResultIndex": 0
      }
     },
     "title": ""
    }
   },
   "outputs": [],
   "source": [
    "display(df_ses)"
   ]
  },
  {
   "cell_type": "code",
   "execution_count": 0,
   "metadata": {
    "application/vnd.databricks.v1+cell": {
     "cellMetadata": {
      "byteLimit": 2048000,
      "rowLimit": 10000
     },
     "inputWidgets": {},
     "nuid": "b390ab2b-9e8a-436d-bf72-8c8c94c10bdb",
     "showTitle": false,
     "tableResultSettingsMap": {},
     "title": ""
    }
   },
   "outputs": [],
   "source": [
    "null_check(df_ses)"
   ]
  },
  {
   "cell_type": "code",
   "execution_count": 0,
   "metadata": {
    "application/vnd.databricks.v1+cell": {
     "cellMetadata": {
      "byteLimit": 2048000,
      "rowLimit": 10000
     },
     "inputWidgets": {},
     "nuid": "af61a296-ea4a-4cdd-b84d-7618b6ef3ba8",
     "showTitle": false,
     "tableResultSettingsMap": {},
     "title": ""
    }
   },
   "outputs": [],
   "source": [
    "display(df_ses.groupBy('entity').count())"
   ]
  }
 ],
 "metadata": {
  "application/vnd.databricks.v1+notebook": {
   "computePreferences": {
    "hardware": {
     "accelerator": null,
     "gpuPoolId": null,
     "memory": null
    }
   },
   "dashboards": [],
   "environmentMetadata": {
    "base_environment": "",
    "environment_version": "3"
   },
   "inputWidgetPreferences": null,
   "language": "python",
   "notebookMetadata": {
    "mostRecentlyExecutedCommandWithImplicitDF": {
     "commandId": 4678222443309702,
     "dataframes": [
      "_sqldf"
     ]
    },
    "pythonIndentUnit": 4
   },
   "notebookName": "adhoc analysis",
   "widgets": {}
  },
  "language_info": {
   "name": "python"
  }
 },
 "nbformat": 4,
 "nbformat_minor": 0
}
