{
 "cells": [
  {
   "cell_type": "code",
   "execution_count": 0,
   "metadata": {
    "application/vnd.databricks.v1+cell": {
     "cellMetadata": {
      "byteLimit": 2048000,
      "rowLimit": 10000
     },
     "inputWidgets": {},
     "nuid": "d525e60c-1ea2-4ea0-a174-3b05b09dbd4c",
     "showTitle": false,
     "tableResultSettingsMap": {},
     "title": ""
    }
   },
   "outputs": [],
   "source": [
    "%run /Workspace/Users/rishak1997@gmail.com/google-fit-ETL-and-analytics/gold_layer_utils"
   ]
  },
  {
   "cell_type": "code",
   "execution_count": 0,
   "metadata": {
    "application/vnd.databricks.v1+cell": {
     "cellMetadata": {
      "byteLimit": 2048000,
      "rowLimit": 10000
     },
     "inputWidgets": {},
     "nuid": "6376e611-2802-4c1c-850f-22fef335db14",
     "showTitle": false,
     "tableResultSettingsMap": {},
     "title": ""
    }
   },
   "outputs": [],
   "source": [
    "from concurrent.futures import ProcessPoolExecutor, as_completed"
   ]
  },
  {
   "cell_type": "code",
   "execution_count": 0,
   "metadata": {
    "application/vnd.databricks.v1+cell": {
     "cellMetadata": {
      "byteLimit": 2048000,
      "implicitDf": true,
      "rowLimit": 10000
     },
     "inputWidgets": {},
     "nuid": "6d15b25e-4e27-469a-9dee-0af3fa6bf7eb",
     "showTitle": false,
     "tableResultSettingsMap": {},
     "title": ""
    }
   },
   "outputs": [],
   "source": [
    "%sql\n",
    "\n",
    "create schema if not exists google_fit.gold"
   ]
  },
  {
   "cell_type": "code",
   "execution_count": 0,
   "metadata": {
    "application/vnd.databricks.v1+cell": {
     "cellMetadata": {
      "byteLimit": 2048000,
      "implicitDf": true,
      "rowLimit": 10000
     },
     "inputWidgets": {},
     "nuid": "5c723865-7948-46f6-9968-038a63cbb30e",
     "showTitle": false,
     "tableResultSettingsMap": {},
     "title": ""
    }
   },
   "outputs": [],
   "source": [
    "%sql\n",
    "\n",
    "create volume if not exists google_fit.gold.activity_metrics_plots"
   ]
  },
  {
   "cell_type": "code",
   "execution_count": 0,
   "metadata": {
    "application/vnd.databricks.v1+cell": {
     "cellMetadata": {
      "byteLimit": 2048000,
      "rowLimit": 10000
     },
     "inputWidgets": {},
     "nuid": "e08d0d1f-0214-4854-8b6e-8a0fa2b34d17",
     "showTitle": false,
     "tableResultSettingsMap": {},
     "title": ""
    }
   },
   "outputs": [],
   "source": [
    "daily_activity_metric_df_base = CreateDF.from_table(schema_name= \"silver\", table_name= \"daily_activity_metrics\")"
   ]
  },
  {
   "cell_type": "code",
   "execution_count": 0,
   "metadata": {
    "application/vnd.databricks.v1+cell": {
     "cellMetadata": {
      "byteLimit": 2048000,
      "rowLimit": 10000
     },
     "inputWidgets": {},
     "nuid": "2fdbdc79-d96a-4097-a78b-4c35f218af9b",
     "showTitle": false,
     "tableResultSettingsMap": {},
     "title": ""
    }
   },
   "outputs": [],
   "source": [
    "prefix_daily = lambda col : f\"daily_{col}\" if col not in [\"date\", \"week\", \"month\", \"entity\"] else col\n",
    "\n",
    "daily_activity_metric_df_base = (\n",
    "    daily_activity_metric_df_base.select(\n",
    "        *[  \n",
    "            col\n",
    "            for col in daily_activity_metric_df_base.columns\n",
    "            if not re.search(r\"max_|min_|average_|cycling|running\", col)\n",
    "        ]\n",
    "    )\n",
    "    .withColumn(\"month\", F.date_trunc(\"month\", F.col(\"date\")).cast(DateType()))\n",
    ")"
   ]
  },
  {
   "cell_type": "code",
   "execution_count": 0,
   "metadata": {
    "application/vnd.databricks.v1+cell": {
     "cellMetadata": {
      "byteLimit": 2048000,
      "rowLimit": 10000
     },
     "inputWidgets": {},
     "nuid": "ad623176-f26a-47b0-bcf3-67150957976b",
     "showTitle": false,
     "tableResultSettingsMap": {},
     "title": ""
    }
   },
   "outputs": [],
   "source": [
    "daily_activity_metric_df_renamed = daily_activity_metric_df_base.toDF(*map(prefix_daily, daily_activity_metric_df_base.columns))"
   ]
  },
  {
   "cell_type": "markdown",
   "metadata": {
    "application/vnd.databricks.v1+cell": {
     "cellMetadata": {
      "byteLimit": 2048000,
      "rowLimit": 10000
     },
     "inputWidgets": {},
     "nuid": "a57d0de9-f6d5-4185-9ecc-100190976860",
     "showTitle": false,
     "tableResultSettingsMap": {},
     "title": ""
    }
   },
   "source": [
    "## **Monthly metrics**"
   ]
  },
  {
   "cell_type": "code",
   "execution_count": 0,
   "metadata": {
    "application/vnd.databricks.v1+cell": {
     "cellMetadata": {
      "byteLimit": 2048000,
      "rowLimit": 10000
     },
     "inputWidgets": {},
     "nuid": "fcdc5ea8-3048-4cba-99ad-75802eb1ba01",
     "showTitle": false,
     "tableResultSettingsMap": {},
     "title": ""
    }
   },
   "outputs": [],
   "source": [
    "monthly_df_da = DeclarativeAggregations(\n",
    "    daily_activity_metric_df_renamed.select([\"entity\", \"date\", \"month\" , \"daily_move_minutes_count\", \"daily_calories_kcal\", \"daily_distance_m\", \"daily_heart_points\", \"daily_heart_minutes\", \"daily_step_count\", \"daily_walking_duration_ms\"])\n",
    ")\n",
    "\n",
    "monthly_df_da.define_entities()\n",
    "monthly_df_da.clear_agg_config()\n",
    "monthly_df_da.clear_df_trans()\n",
    "\n",
    "monthly_df_da.df.display()"
   ]
  },
  {
   "cell_type": "code",
   "execution_count": 0,
   "metadata": {
    "application/vnd.databricks.v1+cell": {
     "cellMetadata": {
      "byteLimit": 2048000,
      "rowLimit": 10000
     },
     "inputWidgets": {},
     "nuid": "74f6885f-1115-433d-a52e-e06b5dc6af29",
     "showTitle": true,
     "tableResultSettingsMap": {},
     "title": "dense rank by month per entity"
    }
   },
   "outputs": [],
   "source": [
    "monthly_df_da.build_agg_config(agg_metric=\"rank\", group_by_cols=[\"entity\"], order_by= 'month',  name= \"drank\")\n",
    "monthly_df_da.build_trans_df()"
   ]
  },
  {
   "cell_type": "code",
   "execution_count": 0,
   "metadata": {
    "application/vnd.databricks.v1+cell": {
     "cellMetadata": {
      "byteLimit": 2048000,
      "rowLimit": 10000
     },
     "inputWidgets": {},
     "nuid": "70a422ef-b5e2-467f-9157-54e6a030e53d",
     "showTitle": false,
     "tableResultSettingsMap": {},
     "title": ""
    }
   },
   "outputs": [],
   "source": [
    "monthly_df_da.current_attributes()"
   ]
  },
  {
   "cell_type": "code",
   "execution_count": 0,
   "metadata": {
    "application/vnd.databricks.v1+cell": {
     "cellMetadata": {
      "byteLimit": 2048000,
      "rowLimit": 10000
     },
     "inputWidgets": {},
     "nuid": "5cbcdf1b-1756-4177-878f-a534dd909e49",
     "showTitle": true,
     "tableResultSettingsMap": {},
     "title": "move_minutes"
    }
   },
   "outputs": [],
   "source": [
    "monthly_df_da.build_agg_config(agg_metric=\"sum\", group_by_cols=[\"entity\", \"month\"], agg_on_col=\"daily_move_minutes_count\", name= \"current_month_move_minutes\")\n",
    "monthly_df_da.build_trans_df()\n",
    "\n",
    "\n",
    "monthly_df_da.build_agg_config(agg_metric=\"first_value\", group_by_cols=[\"entity\"], agg_on_col=\"current_month_move_minutes\",  name= \"prev_month_move_minutes\", rows_between_args=(-31, 0))\n",
    "monthly_df_da.build_trans_df()\n",
    "\n",
    "monthly_df_da.df_trans = monthly_df_da.df_trans.withColumn(\"prev_month_move_minutes\", F.when(F.col('drank') == 1, None).otherwise(F.col('prev_month_move_minutes')))\n",
    "\n",
    "monthly_df_da.add_comparison_col_percent(curr_col=\"current_month_move_minutes\", prev_col=\"prev_month_move_minutes\", comp_col_name=\"monthly_move_minutes_change_percent\")"
   ]
  },
  {
   "cell_type": "code",
   "execution_count": 0,
   "metadata": {
    "application/vnd.databricks.v1+cell": {
     "cellMetadata": {
      "byteLimit": 2048000,
      "rowLimit": 10000
     },
     "inputWidgets": {},
     "nuid": "8892ea66-e75a-49a0-b974-0e049d474276",
     "showTitle": true,
     "tableResultSettingsMap": {},
     "title": "calories_kcal"
    }
   },
   "outputs": [],
   "source": [
    "monthly_df_da.build_agg_config(agg_metric=\"sum\", group_by_cols=[\"entity\", \"month\"], agg_on_col=\"daily_calories_kcal\", name= \"current_month_calories_burned_kcal\")\n",
    "monthly_df_da.build_trans_df()\n",
    "\n",
    "\n",
    "monthly_df_da.build_agg_config(agg_metric=\"first_value\", group_by_cols=[\"entity\"], agg_on_col=\"current_month_calories_burned_kcal\",  name= \"prev_month_calories_burned_kcal\", rows_between_args=(-31, 0))\n",
    "monthly_df_da.build_trans_df()\n",
    "\n",
    "monthly_df_da.df_trans = monthly_df_da.df_trans.withColumn(\"prev_month_calories_burned_kcal\", F.when(F.col('drank') == 1, None).otherwise(F.col('prev_month_calories_burned_kcal')))\n",
    "\n",
    "monthly_df_da.add_comparison_col_percent(curr_col=\"current_month_calories_burned_kcal\", prev_col=\"prev_month_calories_burned_kcal\", comp_col_name=\"monthly_calories_burned_change_percent\")"
   ]
  },
  {
   "cell_type": "code",
   "execution_count": 0,
   "metadata": {
    "application/vnd.databricks.v1+cell": {
     "cellMetadata": {
      "byteLimit": 2048000,
      "rowLimit": 10000
     },
     "inputWidgets": {},
     "nuid": "eca4e891-5416-48ca-ad2b-bfa124f91c77",
     "showTitle": true,
     "tableResultSettingsMap": {},
     "title": "distance_m"
    }
   },
   "outputs": [],
   "source": [
    "monthly_df_da.build_agg_config(agg_metric=\"sum\", group_by_cols=[\"entity\", \"month\"], agg_on_col=\"daily_distance_m\", name= \"current_month_distance_covered_meters\")\n",
    "monthly_df_da.build_trans_df()\n",
    "\n",
    "\n",
    "monthly_df_da.build_agg_config(agg_metric=\"first_value\", group_by_cols=[\"entity\"], agg_on_col=\"current_month_distance_covered_meters\",  name= \"prev_month_distance_covered_meters\", rows_between_args=(-31, 0))\n",
    "monthly_df_da.build_trans_df()\n",
    "\n",
    "monthly_df_da.df_trans = monthly_df_da.df_trans.withColumn(\"prev_month_distance_covered_meters\", F.when(F.col('drank') == 1, None).otherwise(F.col('prev_month_distance_covered_meters')))\n",
    "\n",
    "monthly_df_da.add_comparison_col_percent(curr_col=\"current_month_distance_covered_meters\", prev_col=\"prev_month_distance_covered_meters\", comp_col_name=\"monthly_distance_covered_change_percent\")"
   ]
  },
  {
   "cell_type": "code",
   "execution_count": 0,
   "metadata": {
    "application/vnd.databricks.v1+cell": {
     "cellMetadata": {
      "byteLimit": 2048000,
      "rowLimit": 10000
     },
     "inputWidgets": {},
     "nuid": "731473a9-81ca-4865-976c-9767db3c5ff9",
     "showTitle": true,
     "tableResultSettingsMap": {},
     "title": "heart_points"
    }
   },
   "outputs": [],
   "source": [
    "monthly_df_da.build_agg_config(agg_metric=\"sum\", group_by_cols=[\"entity\", \"month\"], agg_on_col=\"daily_heart_points\", name= \"current_month_heart_points_earned\")\n",
    "monthly_df_da.build_trans_df()\n",
    "\n",
    "\n",
    "monthly_df_da.build_agg_config(agg_metric=\"first_value\", group_by_cols=[\"entity\"], agg_on_col=\"current_month_heart_points_earned\",  name= \"prev_month_heart_points_earned\", rows_between_args=(-31, 0))\n",
    "monthly_df_da.build_trans_df()\n",
    "\n",
    "monthly_df_da.df_trans = monthly_df_da.df_trans.withColumn(\"prev_month_heart_points_earned\", F.when(F.col('drank') == 1, None).otherwise(F.col('prev_month_heart_points_earned')))\n",
    "\n",
    "monthly_df_da.add_comparison_col_percent(curr_col=\"current_month_heart_points_earned\", prev_col=\"prev_month_heart_points_earned\", comp_col_name=\"monthly_heart_points_change_percent\")"
   ]
  },
  {
   "cell_type": "code",
   "execution_count": 0,
   "metadata": {
    "application/vnd.databricks.v1+cell": {
     "cellMetadata": {
      "byteLimit": 2048000,
      "rowLimit": 10000
     },
     "inputWidgets": {},
     "nuid": "9ad1d0b8-0288-4749-b8f5-429e982ff888",
     "showTitle": true,
     "tableResultSettingsMap": {},
     "title": "step_count"
    }
   },
   "outputs": [],
   "source": [
    "monthly_df_da.build_agg_config(agg_metric=\"sum\", group_by_cols=[\"entity\", \"month\"], agg_on_col=\"daily_step_count\", name= \"current_month_step_count\")\n",
    "monthly_df_da.build_trans_df()\n",
    "\n",
    "\n",
    "monthly_df_da.build_agg_config(agg_metric=\"first_value\", group_by_cols=[\"entity\"], agg_on_col=\"current_month_step_count\",  name= \"prev_month_step_count\", rows_between_args=(-31, 0))\n",
    "monthly_df_da.build_trans_df()\n",
    "\n",
    "monthly_df_da.df_trans = monthly_df_da.df_trans.withColumn(\"prev_month_step_count\", F.when(F.col('drank') == 1, None).otherwise(F.col('prev_month_step_count')))\n",
    "\n",
    "monthly_df_da.add_comparison_col_percent(curr_col=\"current_month_step_count\", prev_col=\"prev_month_step_count\", comp_col_name=\"monthly_step_count_change_percent\")"
   ]
  },
  {
   "cell_type": "code",
   "execution_count": 0,
   "metadata": {
    "application/vnd.databricks.v1+cell": {
     "cellMetadata": {
      "byteLimit": 2048000,
      "rowLimit": 10000
     },
     "inputWidgets": {},
     "nuid": "7eafb39f-7b7b-458b-9e3c-38371b73543e",
     "showTitle": false,
     "tableResultSettingsMap": {
      "0": {
       "dataGridStateBlob": "{\"version\":1,\"tableState\":{\"columnPinning\":{\"left\":[\"#row_number#\"],\"right\":[]},\"columnSizing\":{},\"columnVisibility\":{}},\"settings\":{\"columns\":{}},\"syncTimestamp\":1759331294519}",
       "filterBlob": "{\"version\":1,\"filterGroups\":[],\"syncTimestamp\":1759333895238}",
       "queryPlanFiltersBlob": "[]",
       "tableResultIndex": 0
      }
     },
     "title": ""
    }
   },
   "outputs": [],
   "source": [
    "monthly_df_da.df_trans.display()"
   ]
  },
  {
   "cell_type": "code",
   "execution_count": 0,
   "metadata": {
    "application/vnd.databricks.v1+cell": {
     "cellMetadata": {
      "byteLimit": 2048000,
      "rowLimit": 10000
     },
     "inputWidgets": {},
     "nuid": "bff54552-75e4-4860-96c3-381193172628",
     "showTitle": true,
     "tableResultSettingsMap": {},
     "title": "Monthly plots parallel save"
    }
   },
   "outputs": [],
   "source": [
    "monthly_plots = []\n",
    "for col in monthly_df_da.df_trans.columns:\n",
    "        if re.search(r\"percent|current\", col):\n",
    "            monthly_plots.append(LinePlot(monthly_df_da, \"month\", col))  \n",
    "\n",
    "\n",
    "def save_monthly_plots(LinePlotObj):\n",
    "    LinePlotObj.plot()\n",
    "    plt.savefig(LinePlotObj.save_path)\n",
    "    plt.close()\n",
    "\n",
    "futures = []\n",
    "with ProcessPoolExecutor(len(monthly_plots)) as pe:\n",
    "    for plot in monthly_plots:\n",
    "        futures.append(pe.submit(save_monthly_plots, plot))\n",
    "\n",
    "for future in as_completed(futures):\n",
    "    future.result()\n"
   ]
  },
  {
   "cell_type": "code",
   "execution_count": 0,
   "metadata": {
    "application/vnd.databricks.v1+cell": {
     "cellMetadata": {
      "byteLimit": 2048000,
      "rowLimit": 10000
     },
     "inputWidgets": {},
     "nuid": "e681b416-cd75-4a68-817b-9b7448f5337d",
     "showTitle": true,
     "tableResultSettingsMap": {},
     "title": "Display plots"
    }
   },
   "outputs": [],
   "source": [
    "from IPython.display import Image, display\n",
    "\n",
    "image_paths = [monthly_plot.save_path for monthly_plot in monthly_plots]\n",
    "\n",
    "for image_path in image_paths:\n",
    "    # Read image bytes from the volume\n",
    "    with open(image_path, \"rb\") as f:\n",
    "        img_bytes = f.read()\n",
    "    display(Image(data=img_bytes))"
   ]
  },
  {
   "cell_type": "code",
   "execution_count": 0,
   "metadata": {
    "application/vnd.databricks.v1+cell": {
     "cellMetadata": {
      "byteLimit": 2048000,
      "rowLimit": 10000
     },
     "inputWidgets": {},
     "nuid": "a99b76ed-a73b-4702-8092-e88ce4396d82",
     "showTitle": true,
     "tableResultSettingsMap": {},
     "title": "Clean up"
    }
   },
   "outputs": [],
   "source": [
    "dbutils.fs.rm(\"/Volumes/google_fit/gold/activity_metrics_plots/\", recurse= True)"
   ]
  },
  {
   "cell_type": "code",
   "execution_count": 0,
   "metadata": {
    "application/vnd.databricks.v1+cell": {
     "cellMetadata": {
      "byteLimit": 2048000,
      "rowLimit": 10000
     },
     "inputWidgets": {},
     "nuid": "c7564d9e-0ca2-49f1-b0c6-25fee0d001ef",
     "showTitle": true,
     "tableResultSettingsMap": {},
     "title": "Exit notebook"
    }
   },
   "outputs": [],
   "source": [
    "dbutils.notebook.exit(\"Success\")"
   ]
  }
 ],
 "metadata": {
  "application/vnd.databricks.v1+notebook": {
   "computePreferences": {
    "hardware": {
     "accelerator": null,
     "gpuPoolId": null,
     "memory": null
    }
   },
   "dashboards": [],
   "environmentMetadata": {
    "base_environment": "",
    "environment_version": "3"
   },
   "inputWidgetPreferences": null,
   "language": "python",
   "notebookMetadata": {
    "mostRecentlyExecutedCommandWithImplicitDF": {
     "commandId": 8394270883513866,
     "dataframes": [
      "_sqldf"
     ]
    },
    "pythonIndentUnit": 4
   },
   "notebookName": "gold_layer_activity_metrics_monthly",
   "widgets": {}
  },
  "language_info": {
   "name": "python"
  }
 },
 "nbformat": 4,
 "nbformat_minor": 0
}
