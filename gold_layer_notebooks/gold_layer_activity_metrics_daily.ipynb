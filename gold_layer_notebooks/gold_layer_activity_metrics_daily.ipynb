{
 "cells": [
  {
   "cell_type": "code",
   "execution_count": 0,
   "metadata": {
    "application/vnd.databricks.v1+cell": {
     "cellMetadata": {
      "byteLimit": 2048000,
      "rowLimit": 10000
     },
     "inputWidgets": {},
     "nuid": "089e6219-ffea-421c-b146-2eb045207bbd",
     "showTitle": false,
     "tableResultSettingsMap": {},
     "title": ""
    }
   },
   "outputs": [],
   "source": [
    "%run /Workspace/Users/rishak1997@gmail.com/google-fit-ETL-and-analytics/gold_layer_utils"
   ]
  },
  {
   "cell_type": "code",
   "execution_count": 0,
   "metadata": {
    "application/vnd.databricks.v1+cell": {
     "cellMetadata": {
      "byteLimit": 2048000,
      "rowLimit": 10000
     },
     "inputWidgets": {},
     "nuid": "f0743d53-05b9-46ff-9c3f-544e89692c03",
     "showTitle": false,
     "tableResultSettingsMap": {},
     "title": ""
    }
   },
   "outputs": [],
   "source": [
    "from concurrent.futures import ProcessPoolExecutor, as_completed"
   ]
  },
  {
   "cell_type": "code",
   "execution_count": 0,
   "metadata": {
    "application/vnd.databricks.v1+cell": {
     "cellMetadata": {
      "byteLimit": 2048000,
      "implicitDf": true,
      "rowLimit": 10000
     },
     "inputWidgets": {},
     "nuid": "08b07540-754f-4757-83dd-44111ab887fb",
     "showTitle": false,
     "tableResultSettingsMap": {},
     "title": ""
    }
   },
   "outputs": [],
   "source": [
    "%sql\n",
    "\n",
    "create schema if not exists google_fit.gold"
   ]
  },
  {
   "cell_type": "code",
   "execution_count": 0,
   "metadata": {
    "application/vnd.databricks.v1+cell": {
     "cellMetadata": {
      "byteLimit": 2048000,
      "implicitDf": true,
      "rowLimit": 10000
     },
     "inputWidgets": {},
     "nuid": "afaba063-a02e-42e1-a4a8-05b214f30048",
     "showTitle": false,
     "tableResultSettingsMap": {},
     "title": ""
    }
   },
   "outputs": [],
   "source": [
    "%sql\n",
    "\n",
    "create volume if not exists google_fit.gold.activity_metrics_plots"
   ]
  },
  {
   "cell_type": "code",
   "execution_count": 0,
   "metadata": {
    "application/vnd.databricks.v1+cell": {
     "cellMetadata": {
      "byteLimit": 2048000,
      "rowLimit": 10000
     },
     "inputWidgets": {},
     "nuid": "e28020dc-abbf-4da2-b885-d8dc01792fac",
     "showTitle": false,
     "tableResultSettingsMap": {},
     "title": ""
    }
   },
   "outputs": [],
   "source": [
    "daily_activity_metric_df_base = CreateDF.from_table(schema_name= \"silver\", table_name= \"daily_activity_metrics\")"
   ]
  },
  {
   "cell_type": "code",
   "execution_count": 0,
   "metadata": {
    "application/vnd.databricks.v1+cell": {
     "cellMetadata": {
      "byteLimit": 2048000,
      "rowLimit": 10000
     },
     "inputWidgets": {},
     "nuid": "9092cf5f-c732-4550-8f14-2fafb5900772",
     "showTitle": false,
     "tableResultSettingsMap": {},
     "title": ""
    }
   },
   "outputs": [],
   "source": [
    "prefix_daily = lambda col : f\"daily_{col}\" if col not in [\"date\", \"week\", \"month\", \"entity\"] else col\n",
    "\n",
    "daily_activity_metric_df_base = (\n",
    "    daily_activity_metric_df_base.select(\n",
    "        *[  \n",
    "            col\n",
    "            for col in daily_activity_metric_df_base.columns\n",
    "            if not re.search(r\"max_|min_|average_|cycling|running\", col)\n",
    "        ]\n",
    "    )\n",
    ")"
   ]
  },
  {
   "cell_type": "code",
   "execution_count": 0,
   "metadata": {
    "application/vnd.databricks.v1+cell": {
     "cellMetadata": {
      "byteLimit": 2048000,
      "rowLimit": 10000
     },
     "inputWidgets": {},
     "nuid": "b498491e-22e7-48a8-9a7d-5b88cf874835",
     "showTitle": false,
     "tableResultSettingsMap": {},
     "title": ""
    }
   },
   "outputs": [],
   "source": [
    "daily_activity_metric_df_renamed = daily_activity_metric_df_base.toDF(*map(prefix_daily, daily_activity_metric_df_base.columns))"
   ]
  },
  {
   "cell_type": "markdown",
   "metadata": {
    "application/vnd.databricks.v1+cell": {
     "cellMetadata": {
      "byteLimit": 2048000,
      "rowLimit": 10000
     },
     "inputWidgets": {},
     "nuid": "8cc35843-55e9-4731-b57b-d58533b0f4c9",
     "showTitle": false,
     "tableResultSettingsMap": {},
     "title": ""
    }
   },
   "source": [
    "## **Daily metrics**"
   ]
  },
  {
   "cell_type": "code",
   "execution_count": 0,
   "metadata": {
    "application/vnd.databricks.v1+cell": {
     "cellMetadata": {
      "byteLimit": 2048000,
      "rowLimit": 10000
     },
     "inputWidgets": {},
     "nuid": "ff64ac37-09a0-4209-ad21-4b52c7d9b671",
     "showTitle": false,
     "tableResultSettingsMap": {
      "0": {
       "dataGridStateBlob": "{\"version\":1,\"tableState\":{\"columnPinning\":{\"left\":[\"#row_number#\"],\"right\":[]},\"columnSizing\":{},\"columnVisibility\":{}},\"settings\":{\"columns\":{}},\"syncTimestamp\":1758716277384}",
       "filterBlob": null,
       "queryPlanFiltersBlob": null,
       "tableResultIndex": 0
      }
     },
     "title": ""
    }
   },
   "outputs": [],
   "source": [
    "daily_df_da = DeclarativeAggregations(\n",
    "    daily_activity_metric_df_renamed.select([\"entity\", \"date\", \"daily_move_minutes_count\", \"daily_calories_kcal\", \"daily_distance_m\", \"daily_heart_points\", \"daily_step_count\"])\n",
    ")\n",
    "\n",
    "daily_df_da.define_entities()\n",
    "daily_df_da.clear_agg_config()\n",
    "daily_df_da.clear_df_trans()\n",
    "\n",
    "\n",
    "daily_df_da.df.display()"
   ]
  },
  {
   "cell_type": "code",
   "execution_count": 0,
   "metadata": {
    "application/vnd.databricks.v1+cell": {
     "cellMetadata": {
      "byteLimit": 2048000,
      "rowLimit": 10000
     },
     "inputWidgets": {},
     "nuid": "3d3f45e2-6073-4c40-951c-ac881e2efa93",
     "showTitle": false,
     "tableResultSettingsMap": {},
     "title": ""
    }
   },
   "outputs": [],
   "source": [
    "daily_df_da.current_attributes()"
   ]
  },
  {
   "cell_type": "code",
   "execution_count": 0,
   "metadata": {
    "application/vnd.databricks.v1+cell": {
     "cellMetadata": {
      "byteLimit": 2048000,
      "rowLimit": 10000
     },
     "inputWidgets": {},
     "nuid": "d50dd9ea-bdd3-4927-9428-8dd8f2d84256",
     "showTitle": true,
     "tableResultSettingsMap": {},
     "title": "move_minutes"
    }
   },
   "outputs": [],
   "source": [
    "daily_df_da.build_agg_config(agg_metric=\"sum\", group_by_cols=[\"entity\", \"date\"], agg_on_col=\"daily_move_minutes_count\", name= \"current_day_move_minutes\")\n",
    "daily_df_da.build_trans_df()\n",
    "\n",
    "daily_df_da.build_agg_config(agg_metric=\"lag\", group_by_cols=[\"entity\"], agg_on_col=\"current_day_move_minutes\", order_by= \"date\", offset= 1, name= \"prev_day_move_minutes\")\n",
    "daily_df_da.build_trans_df()\n",
    "\n",
    "daily_df_da.add_comparison_col_percent(curr_col=\"current_day_move_minutes\", prev_col=\"prev_day_move_minutes\", comp_col_name=\"daily_move_minutes_change_percent\")"
   ]
  },
  {
   "cell_type": "code",
   "execution_count": 0,
   "metadata": {
    "application/vnd.databricks.v1+cell": {
     "cellMetadata": {
      "byteLimit": 2048000,
      "rowLimit": 10000
     },
     "inputWidgets": {},
     "nuid": "3396637c-d743-4604-b1b2-a73c695cc74b",
     "showTitle": true,
     "tableResultSettingsMap": {},
     "title": "calories_kcal"
    }
   },
   "outputs": [],
   "source": [
    "daily_df_da.build_agg_config(agg_metric=\"sum\", group_by_cols=[\"entity\", \"date\"], agg_on_col=\"daily_calories_kcal\", name= \"current_day_calories_burned_kcal\")\n",
    "daily_df_da.build_trans_df()\n",
    "\n",
    "daily_df_da.build_agg_config(agg_metric=\"lag\", group_by_cols=[\"entity\"], agg_on_col=\"current_day_calories_burned_kcal\", order_by= \"date\", offset= 1, name= \"prev_day_calories_burned_kcal\")\n",
    "daily_df_da.build_trans_df()\n",
    "\n",
    "daily_df_da.add_comparison_col_percent(curr_col=\"current_day_calories_burned_kcal\", prev_col=\"prev_day_calories_burned_kcal\", comp_col_name=\"daily_calories_burned_change_percent\")"
   ]
  },
  {
   "cell_type": "code",
   "execution_count": 0,
   "metadata": {
    "application/vnd.databricks.v1+cell": {
     "cellMetadata": {
      "byteLimit": 2048000,
      "rowLimit": 10000
     },
     "inputWidgets": {},
     "nuid": "f047323f-0913-4fe4-87af-d76d32641783",
     "showTitle": true,
     "tableResultSettingsMap": {},
     "title": "distance_m"
    }
   },
   "outputs": [],
   "source": [
    "daily_df_da.build_agg_config(agg_metric=\"sum\", group_by_cols=[\"entity\", \"date\"], agg_on_col=\"daily_distance_m\", name= \"current_day_distance_covered_meters\")\n",
    "daily_df_da.build_trans_df()\n",
    "\n",
    "daily_df_da.build_agg_config(agg_metric=\"lag\", group_by_cols=[\"entity\"], agg_on_col=\"current_day_distance_covered_meters\", order_by= \"date\", offset= 1, name= \"prev_day_distance_covered_meters\")\n",
    "daily_df_da.build_trans_df()\n",
    "\n",
    "daily_df_da.add_comparison_col_percent(curr_col=\"current_day_distance_covered_meters\", prev_col=\"prev_day_distance_covered_meters\", comp_col_name=\"daily_distance_covered_change_percent\")"
   ]
  },
  {
   "cell_type": "code",
   "execution_count": 0,
   "metadata": {
    "application/vnd.databricks.v1+cell": {
     "cellMetadata": {
      "byteLimit": 2048000,
      "rowLimit": 10000
     },
     "inputWidgets": {},
     "nuid": "52c18348-c590-43eb-9835-003a3d45f899",
     "showTitle": true,
     "tableResultSettingsMap": {},
     "title": "heart_points"
    }
   },
   "outputs": [],
   "source": [
    "daily_df_da.build_agg_config(agg_metric=\"sum\", group_by_cols=[\"entity\", \"date\"], agg_on_col=\"daily_heart_points\", name= \"current_day_heart_points_earned\")\n",
    "daily_df_da.build_trans_df()\n",
    "\n",
    "daily_df_da.build_agg_config(agg_metric=\"lag\", group_by_cols=[\"entity\"], agg_on_col=\"current_day_heart_points_earned\", order_by= \"date\", offset= 1, name= \"prev_day_heart_points_earned\")\n",
    "daily_df_da.build_trans_df()\n",
    "\n",
    "daily_df_da.add_comparison_col_percent(curr_col=\"current_day_heart_points_earned\", prev_col=\"prev_day_heart_points_earned\", comp_col_name=\"daily_heart_points_change_percent\")"
   ]
  },
  {
   "cell_type": "code",
   "execution_count": 0,
   "metadata": {
    "application/vnd.databricks.v1+cell": {
     "cellMetadata": {
      "byteLimit": 2048000,
      "rowLimit": 10000
     },
     "inputWidgets": {},
     "nuid": "52cfbec2-97a9-4842-8412-90e88c238051",
     "showTitle": true,
     "tableResultSettingsMap": {},
     "title": "step_count"
    }
   },
   "outputs": [],
   "source": [
    "daily_df_da.build_agg_config(agg_metric=\"sum\", group_by_cols=[\"entity\", \"date\"], agg_on_col=\"daily_step_count\", name= \"current_day_step_count\")\n",
    "daily_df_da.build_trans_df()\n",
    "\n",
    "daily_df_da.build_agg_config(agg_metric=\"lag\", group_by_cols=[\"entity\"], agg_on_col=\"current_day_step_count\", order_by= \"date\", offset= 1, name= \"prev_day_step_count\")\n",
    "daily_df_da.build_trans_df()\n",
    "\n",
    "daily_df_da.add_comparison_col_percent(curr_col=\"current_day_step_count\", prev_col=\"prev_day_step_count\", comp_col_name=\"daily_step_count_change_percent\")"
   ]
  },
  {
   "cell_type": "code",
   "execution_count": 0,
   "metadata": {
    "application/vnd.databricks.v1+cell": {
     "cellMetadata": {
      "byteLimit": 2048000,
      "rowLimit": 10000
     },
     "inputWidgets": {},
     "nuid": "2ead614e-4c14-4d91-83a8-0aa5ddda4ed1",
     "showTitle": false,
     "tableResultSettingsMap": {
      "0": {
       "dataGridStateBlob": "{\"version\":1,\"tableState\":{\"columnPinning\":{\"left\":[\"#row_number#\"],\"right\":[]},\"columnSizing\":{},\"columnVisibility\":{}},\"settings\":{\"columns\":{}},\"syncTimestamp\":1761067469947}",
       "filterBlob": "{\"version\":1,\"filterGroups\":[],\"syncTimestamp\":1761068574180}",
       "queryPlanFiltersBlob": "[]",
       "tableResultIndex": 0
      }
     },
     "title": ""
    }
   },
   "outputs": [],
   "source": [
    "daily_df_da.df_trans.display()"
   ]
  },
  {
   "cell_type": "code",
   "execution_count": 0,
   "metadata": {
    "application/vnd.databricks.v1+cell": {
     "cellMetadata": {
      "byteLimit": 2048000,
      "rowLimit": 10000
     },
     "inputWidgets": {},
     "nuid": "41a8c219-9997-409b-8be1-1236ca81ed97",
     "showTitle": true,
     "tableResultSettingsMap": {},
     "title": "Weekly plots parallel save as images"
    }
   },
   "outputs": [],
   "source": [
    "daily_plots = []\n",
    "for col in daily_df_da.df_trans.columns:\n",
    "        if re.search(r\"percent|current\", col):\n",
    "            daily_plots.append(LinePlot(daily_df_da, \"date\", col))  \n",
    "\n",
    "\n",
    "def save_daily_plots(LinePlotObj):\n",
    "    LinePlotObj.plot()\n",
    "    plt.savefig(LinePlotObj.save_path)\n",
    "    plt.close()\n",
    "\n",
    "futures = []\n",
    "with ProcessPoolExecutor(len(daily_plots)) as pe:\n",
    "    for plot in daily_plots:\n",
    "        futures.append(pe.submit(save_daily_plots, plot))\n",
    "\n",
    "for future in as_completed(futures):\n",
    "    future.result()\n"
   ]
  },
  {
   "cell_type": "code",
   "execution_count": 0,
   "metadata": {
    "application/vnd.databricks.v1+cell": {
     "cellMetadata": {
      "byteLimit": 2048000,
      "rowLimit": 10000
     },
     "inputWidgets": {},
     "nuid": "7be25449-fb91-4188-bb99-28ea9e311248",
     "showTitle": true,
     "tableResultSettingsMap": {},
     "title": "Display plots"
    }
   },
   "outputs": [],
   "source": [
    "from IPython.display import Image, display\n",
    "\n",
    "image_paths = [daily_plot.save_path for daily_plot in daily_plots]\n",
    "\n",
    "for image_path in image_paths:\n",
    "    # Read image bytes from the volume\n",
    "    with open(image_path, \"rb\") as f:\n",
    "        img_bytes = f.read()\n",
    "    display(Image(data=img_bytes))"
   ]
  },
  {
   "cell_type": "code",
   "execution_count": 0,
   "metadata": {
    "application/vnd.databricks.v1+cell": {
     "cellMetadata": {
      "byteLimit": 2048000,
      "rowLimit": 10000
     },
     "inputWidgets": {},
     "nuid": "f7db0e14-9d22-4671-ae6a-154e67c5353e",
     "showTitle": true,
     "tableResultSettingsMap": {},
     "title": "Clean up"
    }
   },
   "outputs": [],
   "source": [
    "dbutils.fs.rm(\"/Volumes/google_fit/gold/activity_metrics_plots/\", recurse= True)"
   ]
  },
  {
   "cell_type": "code",
   "execution_count": 0,
   "metadata": {
    "application/vnd.databricks.v1+cell": {
     "cellMetadata": {
      "byteLimit": 2048000,
      "rowLimit": 10000
     },
     "inputWidgets": {},
     "nuid": "f5381d96-8a17-47cd-a3d0-ff8d13ae0ce0",
     "showTitle": true,
     "tableResultSettingsMap": {},
     "title": "Exit notebook"
    }
   },
   "outputs": [],
   "source": [
    "dbutils.notebook.exit(\"Success\")"
   ]
  }
 ],
 "metadata": {
  "application/vnd.databricks.v1+notebook": {
   "computePreferences": {
    "hardware": {
     "accelerator": null,
     "gpuPoolId": null,
     "memory": null
    }
   },
   "dashboards": [],
   "environmentMetadata": {
    "base_environment": "",
    "environment_version": "3"
   },
   "inputWidgetPreferences": null,
   "language": "python",
   "notebookMetadata": {
    "mostRecentlyExecutedCommandWithImplicitDF": {
     "commandId": 2635728309757696,
     "dataframes": [
      "_sqldf"
     ]
    },
    "pythonIndentUnit": 4
   },
   "notebookName": "gold_layer_activity_metrics_daily",
   "widgets": {}
  },
  "language_info": {
   "name": "python"
  }
 },
 "nbformat": 4,
 "nbformat_minor": 0
}
