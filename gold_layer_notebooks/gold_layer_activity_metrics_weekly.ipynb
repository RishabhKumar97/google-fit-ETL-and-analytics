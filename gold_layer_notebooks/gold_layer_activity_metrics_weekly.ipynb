{
 "cells": [
  {
   "cell_type": "code",
   "execution_count": 0,
   "metadata": {
    "application/vnd.databricks.v1+cell": {
     "cellMetadata": {
      "byteLimit": 2048000,
      "rowLimit": 10000
     },
     "inputWidgets": {},
     "nuid": "089e6219-ffea-421c-b146-2eb045207bbd",
     "showTitle": false,
     "tableResultSettingsMap": {},
     "title": ""
    }
   },
   "outputs": [],
   "source": [
    "%run /Workspace/Users/rishak1997@gmail.com/google-fit-ETL-and-analytics/gold_layer_utils"
   ]
  },
  {
   "cell_type": "code",
   "execution_count": 0,
   "metadata": {
    "application/vnd.databricks.v1+cell": {
     "cellMetadata": {
      "byteLimit": 2048000,
      "rowLimit": 10000
     },
     "inputWidgets": {},
     "nuid": "f0743d53-05b9-46ff-9c3f-544e89692c03",
     "showTitle": false,
     "tableResultSettingsMap": {},
     "title": ""
    }
   },
   "outputs": [],
   "source": [
    "from concurrent.futures import ProcessPoolExecutor, as_completed"
   ]
  },
  {
   "cell_type": "code",
   "execution_count": 0,
   "metadata": {
    "application/vnd.databricks.v1+cell": {
     "cellMetadata": {
      "byteLimit": 2048000,
      "implicitDf": true,
      "rowLimit": 10000
     },
     "inputWidgets": {},
     "nuid": "08b07540-754f-4757-83dd-44111ab887fb",
     "showTitle": false,
     "tableResultSettingsMap": {},
     "title": ""
    }
   },
   "outputs": [],
   "source": [
    "%sql\n",
    "\n",
    "create schema if not exists google_fit.gold"
   ]
  },
  {
   "cell_type": "code",
   "execution_count": 0,
   "metadata": {
    "application/vnd.databricks.v1+cell": {
     "cellMetadata": {
      "byteLimit": 2048000,
      "implicitDf": true,
      "rowLimit": 10000
     },
     "inputWidgets": {},
     "nuid": "afaba063-a02e-42e1-a4a8-05b214f30048",
     "showTitle": false,
     "tableResultSettingsMap": {},
     "title": ""
    }
   },
   "outputs": [],
   "source": [
    "%sql\n",
    "\n",
    "create volume if not exists google_fit.gold.weekly_plots_activity_metrics"
   ]
  },
  {
   "cell_type": "code",
   "execution_count": 0,
   "metadata": {
    "application/vnd.databricks.v1+cell": {
     "cellMetadata": {
      "byteLimit": 2048000,
      "rowLimit": 10000
     },
     "inputWidgets": {},
     "nuid": "e28020dc-abbf-4da2-b885-d8dc01792fac",
     "showTitle": false,
     "tableResultSettingsMap": {},
     "title": ""
    }
   },
   "outputs": [],
   "source": [
    "daily_activity_metric_df_base = CreateDF.from_table(schema_name= \"silver\", table_name= \"daily_activity_metrics\")"
   ]
  },
  {
   "cell_type": "code",
   "execution_count": 0,
   "metadata": {
    "application/vnd.databricks.v1+cell": {
     "cellMetadata": {
      "byteLimit": 2048000,
      "rowLimit": 10000
     },
     "inputWidgets": {},
     "nuid": "9092cf5f-c732-4550-8f14-2fafb5900772",
     "showTitle": false,
     "tableResultSettingsMap": {},
     "title": ""
    }
   },
   "outputs": [],
   "source": [
    "prefix_daily = lambda col : f\"daily_{col}\" if col not in [\"date\", \"week\", \"month\", \"entity\"] else col\n",
    "\n",
    "daily_activity_metric_df_base = (\n",
    "    daily_activity_metric_df_base.select(\n",
    "        *[  \n",
    "            col\n",
    "            for col in daily_activity_metric_df_base.columns\n",
    "            if not re.search(r\"max_|min_|average_|cycling|running\", col)\n",
    "        ]\n",
    "    )\n",
    "    .withColumn(\"week\", F.next_day(\"date\", 'sunday').cast(DateType()))\n",
    ")"
   ]
  },
  {
   "cell_type": "code",
   "execution_count": 0,
   "metadata": {
    "application/vnd.databricks.v1+cell": {
     "cellMetadata": {
      "byteLimit": 2048000,
      "rowLimit": 10000
     },
     "inputWidgets": {},
     "nuid": "b498491e-22e7-48a8-9a7d-5b88cf874835",
     "showTitle": false,
     "tableResultSettingsMap": {},
     "title": ""
    }
   },
   "outputs": [],
   "source": [
    "daily_activity_metric_df_renamed = daily_activity_metric_df_base.toDF(*map(prefix_daily, daily_activity_metric_df_base.columns))"
   ]
  },
  {
   "cell_type": "markdown",
   "metadata": {
    "application/vnd.databricks.v1+cell": {
     "cellMetadata": {
      "byteLimit": 2048000,
      "rowLimit": 10000
     },
     "inputWidgets": {},
     "nuid": "8cc35843-55e9-4731-b57b-d58533b0f4c9",
     "showTitle": false,
     "tableResultSettingsMap": {},
     "title": ""
    }
   },
   "source": [
    "## **Weekly metrics**"
   ]
  },
  {
   "cell_type": "code",
   "execution_count": 0,
   "metadata": {
    "application/vnd.databricks.v1+cell": {
     "cellMetadata": {
      "byteLimit": 2048000,
      "rowLimit": 10000
     },
     "inputWidgets": {},
     "nuid": "ff64ac37-09a0-4209-ad21-4b52c7d9b671",
     "showTitle": false,
     "tableResultSettingsMap": {
      "0": {
       "dataGridStateBlob": "{\"version\":1,\"tableState\":{\"columnPinning\":{\"left\":[\"#row_number#\"],\"right\":[]},\"columnSizing\":{},\"columnVisibility\":{}},\"settings\":{\"columns\":{}},\"syncTimestamp\":1758716277384}",
       "filterBlob": null,
       "queryPlanFiltersBlob": null,
       "tableResultIndex": 0
      }
     },
     "title": ""
    }
   },
   "outputs": [],
   "source": [
    "weekly_df_da = DeclarativeAggregations(\n",
    "    daily_activity_metric_df_renamed.select([\"entity\", \"date\", \"week\", \"daily_move_minutes_count\", \"daily_calories_kcal\", \"daily_distance_m\", \"daily_heart_points\", \"daily_heart_minutes\", \"daily_step_count\", \"daily_walking_duration_ms\"])\n",
    ")\n",
    "\n",
    "weekly_df_da.define_entities()\n",
    "weekly_df_da.clear_agg_config()\n",
    "weekly_df_da.clear_df_trans()\n",
    "\n",
    "weekly_df_da.df.display()"
   ]
  },
  {
   "cell_type": "code",
   "execution_count": 0,
   "metadata": {
    "application/vnd.databricks.v1+cell": {
     "cellMetadata": {
      "byteLimit": 2048000,
      "rowLimit": 10000
     },
     "inputWidgets": {},
     "nuid": "3d3f45e2-6073-4c40-951c-ac881e2efa93",
     "showTitle": false,
     "tableResultSettingsMap": {},
     "title": ""
    }
   },
   "outputs": [],
   "source": [
    "weekly_df_da.current_attributes()"
   ]
  },
  {
   "cell_type": "code",
   "execution_count": 0,
   "metadata": {
    "application/vnd.databricks.v1+cell": {
     "cellMetadata": {
      "byteLimit": 2048000,
      "rowLimit": 10000
     },
     "inputWidgets": {},
     "nuid": "c057b8ef-3f57-4725-a5da-53e8f5f427e1",
     "showTitle": true,
     "tableResultSettingsMap": {},
     "title": "dense rank by week per entity"
    }
   },
   "outputs": [],
   "source": [
    "weekly_df_da.build_agg_config(agg_metric=\"rank\", group_by_cols=[\"entity\"], order_by= 'week',  name= \"drank\")\n",
    "weekly_df_da.build_trans_df()"
   ]
  },
  {
   "cell_type": "code",
   "execution_count": 0,
   "metadata": {
    "application/vnd.databricks.v1+cell": {
     "cellMetadata": {
      "byteLimit": 2048000,
      "rowLimit": 10000
     },
     "inputWidgets": {},
     "nuid": "d50dd9ea-bdd3-4927-9428-8dd8f2d84256",
     "showTitle": true,
     "tableResultSettingsMap": {},
     "title": "move_minutes"
    }
   },
   "outputs": [],
   "source": [
    "weekly_df_da.build_agg_config(agg_metric=\"sum\", group_by_cols=[\"entity\", \"week\"], agg_on_col=\"daily_move_minutes_count\", name= \"current_week_move_minutes\")\n",
    "weekly_df_da.build_trans_df()\n",
    "\n",
    "weekly_df_da.build_agg_config(agg_metric=\"lag\", group_by_cols=[\"entity\"], agg_on_col=\"current_week_move_minutes\", order_by= \"week\", offset= 7, name= \"prev_week_move_minutes\")\n",
    "weekly_df_da.build_trans_df()\n",
    "\n",
    "weekly_df_da.add_comparison_col_percent(curr_col=\"current_week_move_minutes\", prev_col=\"prev_week_move_minutes\", comp_col_name=\"weekly_move_minutes_change_percent\")"
   ]
  },
  {
   "cell_type": "code",
   "execution_count": 0,
   "metadata": {
    "application/vnd.databricks.v1+cell": {
     "cellMetadata": {
      "byteLimit": 2048000,
      "rowLimit": 10000
     },
     "inputWidgets": {},
     "nuid": "3396637c-d743-4604-b1b2-a73c695cc74b",
     "showTitle": true,
     "tableResultSettingsMap": {},
     "title": "calories_kcal"
    }
   },
   "outputs": [],
   "source": [
    "weekly_df_da.build_agg_config(agg_metric=\"sum\", group_by_cols=[\"entity\", \"week\"], agg_on_col=\"daily_calories_kcal\", name= \"current_week_calories_burned_kcal\")\n",
    "weekly_df_da.build_trans_df()\n",
    "\n",
    "weekly_df_da.build_agg_config(agg_metric=\"lag\", group_by_cols=[\"entity\"], agg_on_col=\"current_week_calories_burned_kcal\", order_by= \"week\", offset= 7, name= \"prev_week_calories_burned_kcal\")\n",
    "weekly_df_da.build_trans_df()\n",
    "\n",
    "weekly_df_da.add_comparison_col_percent(curr_col=\"current_week_calories_burned_kcal\", prev_col=\"prev_week_calories_burned_kcal\", comp_col_name=\"weekly_calories_burned_change_percent\")"
   ]
  },
  {
   "cell_type": "code",
   "execution_count": 0,
   "metadata": {
    "application/vnd.databricks.v1+cell": {
     "cellMetadata": {
      "byteLimit": 2048000,
      "rowLimit": 10000
     },
     "inputWidgets": {},
     "nuid": "f047323f-0913-4fe4-87af-d76d32641783",
     "showTitle": true,
     "tableResultSettingsMap": {},
     "title": "distance_m"
    }
   },
   "outputs": [],
   "source": [
    "weekly_df_da.build_agg_config(agg_metric=\"sum\", group_by_cols=[\"entity\", \"week\"], agg_on_col=\"daily_distance_m\", name= \"current_week_distance_covered_meters\")\n",
    "weekly_df_da.build_trans_df()\n",
    "\n",
    "weekly_df_da.build_agg_config(agg_metric=\"lag\", group_by_cols=[\"entity\"], agg_on_col=\"current_week_distance_covered_meters\", order_by= \"week\", offset= 7, name= \"prev_week_distance_covered_meters\")\n",
    "weekly_df_da.build_trans_df()\n",
    "\n",
    "weekly_df_da.add_comparison_col_percent(curr_col=\"current_week_distance_covered_meters\", prev_col=\"prev_week_distance_covered_meters\", comp_col_name=\"weekly_distance_covered_change_percent\")"
   ]
  },
  {
   "cell_type": "code",
   "execution_count": 0,
   "metadata": {
    "application/vnd.databricks.v1+cell": {
     "cellMetadata": {
      "byteLimit": 2048000,
      "rowLimit": 10000
     },
     "inputWidgets": {},
     "nuid": "52c18348-c590-43eb-9835-003a3d45f899",
     "showTitle": true,
     "tableResultSettingsMap": {},
     "title": "heart_points"
    }
   },
   "outputs": [],
   "source": [
    "weekly_df_da.build_agg_config(agg_metric=\"sum\", group_by_cols=[\"entity\", \"week\"], agg_on_col=\"daily_heart_points\", name= \"current_week_heart_points_earned\")\n",
    "weekly_df_da.build_trans_df()\n",
    "\n",
    "weekly_df_da.build_agg_config(agg_metric=\"lag\", group_by_cols=[\"entity\"], agg_on_col=\"current_week_heart_points_earned\", order_by= \"week\", offset= 7, name= \"prev_week_heart_points_earned\")\n",
    "weekly_df_da.build_trans_df()\n",
    "\n",
    "weekly_df_da.add_comparison_col_percent(curr_col=\"current_week_heart_points_earned\", prev_col=\"prev_week_heart_points_earned\", comp_col_name=\"weekly_heart_points_change_percent\")"
   ]
  },
  {
   "cell_type": "code",
   "execution_count": 0,
   "metadata": {
    "application/vnd.databricks.v1+cell": {
     "cellMetadata": {
      "byteLimit": 2048000,
      "rowLimit": 10000
     },
     "inputWidgets": {},
     "nuid": "52cfbec2-97a9-4842-8412-90e88c238051",
     "showTitle": true,
     "tableResultSettingsMap": {},
     "title": "step_count"
    }
   },
   "outputs": [],
   "source": [
    "weekly_df_da.build_agg_config(agg_metric=\"sum\", group_by_cols=[\"entity\", \"week\"], agg_on_col=\"daily_step_count\", name= \"current_week_step_count\")\n",
    "weekly_df_da.build_trans_df()\n",
    "\n",
    "weekly_df_da.build_agg_config(agg_metric=\"lag\", group_by_cols=[\"entity\"], agg_on_col=\"current_week_step_count\", order_by= \"week\", offset= 7, name= \"prev_week_step_count\")\n",
    "weekly_df_da.build_trans_df()\n",
    "\n",
    "weekly_df_da.add_comparison_col_percent(curr_col=\"current_week_step_count\", prev_col=\"prev_week_step_count\", comp_col_name=\"weekly_step_count_change_percent\")"
   ]
  },
  {
   "cell_type": "code",
   "execution_count": 0,
   "metadata": {
    "application/vnd.databricks.v1+cell": {
     "cellMetadata": {
      "byteLimit": 2048000,
      "rowLimit": 10000
     },
     "inputWidgets": {},
     "nuid": "2ead614e-4c14-4d91-83a8-0aa5ddda4ed1",
     "showTitle": false,
     "tableResultSettingsMap": {
      "0": {
       "dataGridStateBlob": "{\"version\":1,\"tableState\":{\"columnPinning\":{\"left\":[\"#row_number#\"],\"right\":[]},\"columnSizing\":{},\"columnVisibility\":{}},\"settings\":{\"columns\":{}},\"syncTimestamp\":1758708361513}",
       "filterBlob": null,
       "queryPlanFiltersBlob": null,
       "tableResultIndex": 0
      }
     },
     "title": ""
    }
   },
   "outputs": [],
   "source": [
    "weekly_df_da.df_trans.display()"
   ]
  },
  {
   "cell_type": "code",
   "execution_count": 0,
   "metadata": {
    "application/vnd.databricks.v1+cell": {
     "cellMetadata": {
      "byteLimit": 2048000,
      "rowLimit": 10000
     },
     "inputWidgets": {},
     "nuid": "41a8c219-9997-409b-8be1-1236ca81ed97",
     "showTitle": true,
     "tableResultSettingsMap": {},
     "title": "Weekly plots (parallel save)"
    }
   },
   "outputs": [],
   "source": [
    "weekly_plots = []\n",
    "for col in weekly_df_da.df_trans.columns:\n",
    "        if re.search(r\"percent|current\", col):\n",
    "            weekly_plots.append(LinePlot(weekly_df_da, \"week\", col))  \n",
    "\n",
    "\n",
    "def save_weekly_plots(LinePlotObj):\n",
    "    LinePlotObj.plot()\n",
    "    plt.savefig(LinePlotObj.save_path)\n",
    "    plt.close()\n",
    "\n",
    "futures = []\n",
    "with ProcessPoolExecutor(len(weekly_plots)) as pe:\n",
    "    for plot in weekly_plots:\n",
    "        futures.append(pe.submit(save_weekly_plots, plot))\n",
    "\n",
    "for future in as_completed(futures):\n",
    "    future.result()\n"
   ]
  },
  {
   "cell_type": "code",
   "execution_count": 0,
   "metadata": {
    "application/vnd.databricks.v1+cell": {
     "cellMetadata": {
      "byteLimit": 2048000,
      "rowLimit": 10000
     },
     "inputWidgets": {},
     "nuid": "a9f6a535-7ab6-4e84-abe6-313f41f74c4a",
     "showTitle": false,
     "tableResultSettingsMap": {},
     "title": ""
    }
   },
   "outputs": [],
   "source": [
    "# image_paths = [weekly_plot.save_path for weekly_plot in weekly_plots]\n",
    "\n",
    "# for image_path in image_paths:\n",
    "#     filename = image_path.split('/')[-1]\n",
    "#     displayHTML(f'<a href=\"files/{image_path}\" download>Download {filename}</a><br>')"
   ]
  },
  {
   "cell_type": "code",
   "execution_count": 0,
   "metadata": {
    "application/vnd.databricks.v1+cell": {
     "cellMetadata": {
      "byteLimit": 2048000,
      "rowLimit": 10000
     },
     "inputWidgets": {},
     "nuid": "7be25449-fb91-4188-bb99-28ea9e311248",
     "showTitle": true,
     "tableResultSettingsMap": {},
     "title": "Display plots"
    }
   },
   "outputs": [],
   "source": [
    "from IPython.display import Image, display\n",
    "\n",
    "for image_path in image_paths:\n",
    "    # Read image bytes from the volume\n",
    "    with open(image_path, \"rb\") as f:\n",
    "        img_bytes = f.read()\n",
    "    display(Image(data=img_bytes))"
   ]
  },
  {
   "cell_type": "code",
   "execution_count": 0,
   "metadata": {
    "application/vnd.databricks.v1+cell": {
     "cellMetadata": {
      "byteLimit": 2048000,
      "rowLimit": 10000
     },
     "inputWidgets": {},
     "nuid": "f7db0e14-9d22-4671-ae6a-154e67c5353e",
     "showTitle": true,
     "tableResultSettingsMap": {},
     "title": "Clean up"
    }
   },
   "outputs": [],
   "source": [
    "dbutils.fs.rm(\"/Volumes/google_fit/gold/weekly_plots_activity_metrics\", recurse= True)"
   ]
  },
  {
   "cell_type": "code",
   "execution_count": 0,
   "metadata": {
    "application/vnd.databricks.v1+cell": {
     "cellMetadata": {},
     "inputWidgets": {},
     "nuid": "f5381d96-8a17-47cd-a3d0-ff8d13ae0ce0",
     "showTitle": true,
     "tableResultSettingsMap": {},
     "title": "Exit notebook"
    }
   },
   "outputs": [],
   "source": [
    "dbutils.notebook.exit(\"Success\")"
   ]
  },
  {
   "cell_type": "code",
   "execution_count": 0,
   "metadata": {
    "application/vnd.databricks.v1+cell": {
     "cellMetadata": {
      "byteLimit": 2048000,
      "rowLimit": 10000
     },
     "inputWidgets": {},
     "nuid": "99c6ad18-dda7-41f9-b09c-0a5dc9c2c795",
     "showTitle": true,
     "tableResultSettingsMap": {},
     "title": "move_minutes"
    }
   },
   "outputs": [],
   "source": [
    "monthly_df_da.build_agg_config(agg_metric=\"sum\", group_by_cols=[\"entity\", \"month\"], agg_on_col=\"daily_move_minutes_count\", name= \"current_month_move_minutes\")\n",
    "monthly_df_da.build_trans_df()\n",
    "\n",
    "\n",
    "\n",
    "monthly_df_da.build_agg_config(agg_metric=\"lag\", group_by_cols=[\"entity\"], agg_on_col=\"current_month_move_minutes\", order_by= \"month\", offset= 31, default= 0, name= \"prev_month_move_minutes\")\n",
    "monthly_df_da.build_trans_df()\n",
    "\n",
    "\n",
    "monthly_df_da.add_comparison_col_percent(curr_col=\"current_month_move_minutes\", prev_col=\"prev_month_move_minutes\", comp_col_name=\"monthly_move_minutes_change_percent\")"
   ]
  },
  {
   "cell_type": "code",
   "execution_count": 0,
   "metadata": {
    "application/vnd.databricks.v1+cell": {
     "cellMetadata": {
      "byteLimit": 2048000,
      "rowLimit": 10000
     },
     "inputWidgets": {},
     "nuid": "a502a612-b078-4748-93dd-493514649cf4",
     "showTitle": false,
     "tableResultSettingsMap": {},
     "title": ""
    }
   },
   "outputs": [],
   "source": [
    "monthly_df_da.df_trans = monthly_df_da.df_trans.withColumn('rnk', F.rank().over(W.partitionBy(\"entity\").orderBy(F.col(\"month\").asc())))"
   ]
  },
  {
   "cell_type": "code",
   "execution_count": 0,
   "metadata": {
    "application/vnd.databricks.v1+cell": {
     "cellMetadata": {
      "byteLimit": 2048000,
      "rowLimit": 10000
     },
     "inputWidgets": {},
     "nuid": "afbae712-5bf7-454e-a32b-c5ea310a321e",
     "showTitle": false,
     "tableResultSettingsMap": {},
     "title": ""
    }
   },
   "outputs": [],
   "source": [
    "\n",
    "monthly_df_da.df_trans = monthly_df_da.df_trans.withColumn(\"prev_month_move_minutes\", F.first_value('current_month_move_minutes').over(W.partitionBy(\"entity\").rowsBetween(-31, W.currentRow)))"
   ]
  },
  {
   "cell_type": "code",
   "execution_count": 0,
   "metadata": {
    "application/vnd.databricks.v1+cell": {
     "cellMetadata": {
      "byteLimit": 2048000,
      "rowLimit": 10000
     },
     "inputWidgets": {},
     "nuid": "4284c873-dd2f-4131-9873-655b39217d6b",
     "showTitle": false,
     "tableResultSettingsMap": {
      "0": {
       "dataGridStateBlob": "{\"version\":1,\"tableState\":{\"columnPinning\":{\"left\":[\"#row_number#\"],\"right\":[]},\"columnSizing\":{},\"columnVisibility\":{}},\"settings\":{\"columns\":{}},\"syncTimestamp\":1758716710447}",
       "filterBlob": null,
       "queryPlanFiltersBlob": null,
       "tableResultIndex": 0
      }
     },
     "title": ""
    }
   },
   "outputs": [],
   "source": [
    "monthly_df_da.df_trans.display()"
   ]
  },
  {
   "cell_type": "code",
   "execution_count": 0,
   "metadata": {
    "application/vnd.databricks.v1+cell": {
     "cellMetadata": {
      "byteLimit": 2048000,
      "rowLimit": 10000
     },
     "inputWidgets": {},
     "nuid": "a1030094-f115-43f5-ae5a-94c23ec8977f",
     "showTitle": false,
     "tableResultSettingsMap": {},
     "title": ""
    }
   },
   "outputs": [],
   "source": [
    "LinePlot(monthly_df_da, x= \"month\", y= \"monthly_move_minutes_change_percent\").plot()"
   ]
  },
  {
   "cell_type": "code",
   "execution_count": 0,
   "metadata": {
    "application/vnd.databricks.v1+cell": {
     "cellMetadata": {
      "byteLimit": 2048000,
      "rowLimit": 10000
     },
     "inputWidgets": {},
     "nuid": "32269ab3-2edc-40b5-8256-5a804a262650",
     "showTitle": false,
     "tableResultSettingsMap": {},
     "title": ""
    }
   },
   "outputs": [],
   "source": [
    "test_df = copy.deepcopy(monthly_df_da.df_trans.select(['entity', 'month', 'daily_move_minutes_count']))"
   ]
  },
  {
   "cell_type": "code",
   "execution_count": 0,
   "metadata": {
    "application/vnd.databricks.v1+cell": {
     "cellMetadata": {
      "byteLimit": 2048000,
      "rowLimit": 10000
     },
     "inputWidgets": {},
     "nuid": "75e0aaac-9f92-4c59-ba2b-57070ebafec6",
     "showTitle": false,
     "tableResultSettingsMap": {
      "0": {
       "dataGridStateBlob": "{\"version\":1,\"tableState\":{\"columnPinning\":{\"left\":[\"#row_number#\"],\"right\":[]},\"columnSizing\":{},\"columnVisibility\":{}},\"settings\":{\"columns\":{}},\"syncTimestamp\":1758720243220}",
       "filterBlob": null,
       "queryPlanFiltersBlob": null,
       "tableResultIndex": 0
      }
     },
     "title": ""
    }
   },
   "outputs": [],
   "source": [
    "display(\n",
    "    test_df.groupBy([\"entity\", \"month\"]).agg(F.sum(\"daily_move_minutes_count\").alias(\"monthly_move_minutes\"))\n",
    "            .withColumn('prev_month_move_minutes', F.lag(F.col(\"monthly_move_minutes\"), offset=1).over(W.partitionBy(\"entity\").orderBy(\"month\")))\n",
    ")"
   ]
  }
 ],
 "metadata": {
  "application/vnd.databricks.v1+notebook": {
   "computePreferences": {
    "hardware": {
     "accelerator": null,
     "gpuPoolId": null,
     "memory": null
    }
   },
   "dashboards": [],
   "environmentMetadata": {
    "base_environment": "",
    "environment_version": "3"
   },
   "inputWidgetPreferences": null,
   "language": "python",
   "notebookMetadata": {
    "mostRecentlyExecutedCommandWithImplicitDF": {
     "commandId": 5799155918994362,
     "dataframes": [
      "_sqldf"
     ]
    },
    "pythonIndentUnit": 4
   },
   "notebookName": "gold_layer_activity_metrics_weekly",
   "widgets": {}
  },
  "language_info": {
   "name": "python"
  }
 },
 "nbformat": 4,
 "nbformat_minor": 0
}
