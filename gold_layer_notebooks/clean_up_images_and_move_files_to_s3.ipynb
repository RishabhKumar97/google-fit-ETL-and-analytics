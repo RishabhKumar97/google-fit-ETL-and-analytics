{
 "cells": [
  {
   "cell_type": "code",
   "execution_count": 0,
   "metadata": {
    "application/vnd.databricks.v1+cell": {
     "cellMetadata": {
      "byteLimit": 2048000,
      "rowLimit": 10000
     },
     "inputWidgets": {},
     "nuid": "05172709-3494-4232-9e81-ad8ca6442997",
     "showTitle": true,
     "tableResultSettingsMap": {},
     "title": "Path config"
    }
   },
   "outputs": [],
   "source": [
    "EXTERNAL_LOC_SAVE_PATH = \"s3://google-fit-data-raw-12e34974-eb44-4fb4-ad47-49a2b7455430/activity-metric-plots/\"\n",
    "CLEAN_UP_LOCATION = \"/Volumes/google_fit/gold/activity_metrics_plots/\""
   ]
  },
  {
   "cell_type": "code",
   "execution_count": 0,
   "metadata": {
    "application/vnd.databricks.v1+cell": {
     "cellMetadata": {
      "byteLimit": 2048000,
      "rowLimit": 10000
     },
     "inputWidgets": {},
     "nuid": "2aa914a8-8fa1-4aff-8c0d-dfc16d95514e",
     "showTitle": false,
     "tableResultSettingsMap": {},
     "title": ""
    }
   },
   "outputs": [],
   "source": [
    "from concurrent.futures import ThreadPoolExecutor, as_completed\n",
    "import os"
   ]
  },
  {
   "cell_type": "code",
   "execution_count": 0,
   "metadata": {
    "application/vnd.databricks.v1+cell": {
     "cellMetadata": {
      "byteLimit": 2048000,
      "rowLimit": 10000
     },
     "inputWidgets": {},
     "nuid": "4e473f5f-8845-4be5-b6b8-07adcc6b8cfa",
     "showTitle": true,
     "tableResultSettingsMap": {},
     "title": "remove images from databricks volumes"
    }
   },
   "outputs": [],
   "source": [
    "def clean_up_images():\n",
    "    global CLEAN_UP_LOCATION\n",
    "    for file_info in dbutils.fs.ls(CLEAN_UP_LOCATION):\n",
    "        if file_info.name.endswith(\".png\"):\n",
    "            dbutils.fs.rm(file_info.path)\n",
    "            # print(file_info.path)\n",
    "    print(f\"All images removed from the path: {CLEAN_UP_LOCATION}\")\n",
    "        "
   ]
  },
  {
   "cell_type": "code",
   "execution_count": 0,
   "metadata": {
    "application/vnd.databricks.v1+cell": {
     "cellMetadata": {
      "byteLimit": 2048000,
      "rowLimit": 10000
     },
     "inputWidgets": {},
     "nuid": "982a5027-7985-4b4d-bd51-f8bee2f76c7f",
     "showTitle": true,
     "tableResultSettingsMap": {},
     "title": "remove existing files in s3"
    }
   },
   "outputs": [],
   "source": [
    "def remove_existing_files_in_s3():\n",
    "    global EXTERNAL_LOC_SAVE_PATH\n",
    "    for file_info in dbutils.fs.ls(EXTERNAL_LOC_SAVE_PATH):\n",
    "        dbutils.fs.rm(EXTERNAL_LOC_SAVE_PATH, recurse= True)\n",
    "    print(f\"All plots files removed from S3 bucket: {EXTERNAL_LOC_SAVE_PATH}\")\n",
    "        "
   ]
  },
  {
   "cell_type": "code",
   "execution_count": 0,
   "metadata": {
    "application/vnd.databricks.v1+cell": {
     "cellMetadata": {
      "byteLimit": 2048000,
      "rowLimit": 10000
     },
     "inputWidgets": {},
     "nuid": "39851817-c3e6-4788-9a6d-ecadbefd3c3a",
     "showTitle": true,
     "tableResultSettingsMap": {},
     "title": "move new plot files to s3"
    }
   },
   "outputs": [],
   "source": [
    "def move_files_to_s3():\n",
    "    global CLEAN_UP_LOCATION\n",
    "    global EXTERNAL_LOC_SAVE_PATH\n",
    "    for file_info in dbutils.fs.ls(CLEAN_UP_LOCATION):\n",
    "        if not file_info.name.endswith(\".png\"):\n",
    "            dbutils.fs.mv(file_info.path, os.path.join(EXTERNAL_LOC_SAVE_PATH, file_info.name))\n",
    "            # print(file_info.path, os.path.join(EXTERNAL_LOC_SAVE_PATH, file_info.name))\n",
    "    print(f\"All files moved to S3 bucket: {EXTERNAL_LOC_SAVE_PATH}\")\n",
    "        "
   ]
  },
  {
   "cell_type": "code",
   "execution_count": 0,
   "metadata": {
    "application/vnd.databricks.v1+cell": {
     "cellMetadata": {
      "byteLimit": 2048000,
      "rowLimit": 10000
     },
     "inputWidgets": {},
     "nuid": "dff44197-d75c-4c82-a158-58536ee25570",
     "showTitle": false,
     "tableResultSettingsMap": {},
     "title": ""
    }
   },
   "outputs": [],
   "source": [
    "remove_existing_files_in_s3()"
   ]
  },
  {
   "cell_type": "code",
   "execution_count": 0,
   "metadata": {
    "application/vnd.databricks.v1+cell": {
     "cellMetadata": {
      "byteLimit": 2048000,
      "rowLimit": 10000
     },
     "inputWidgets": {},
     "nuid": "984881c1-43ec-4fcc-9608-5e43e95852c4",
     "showTitle": false,
     "tableResultSettingsMap": {},
     "title": ""
    }
   },
   "outputs": [],
   "source": [
    "with ThreadPoolExecutor() as e:\n",
    "    futures = [e.submit(clean_up_images), e.submit(move_files_to_s3)]\n",
    "\n",
    "for future in as_completed(futures):\n",
    "    future.result()\n"
   ]
  }
 ],
 "metadata": {
  "application/vnd.databricks.v1+notebook": {
   "computePreferences": {
    "hardware": {
     "accelerator": null,
     "gpuPoolId": null,
     "memory": null
    }
   },
   "dashboards": [],
   "environmentMetadata": {
    "base_environment": "",
    "environment_version": "4"
   },
   "inputWidgetPreferences": null,
   "language": "python",
   "notebookMetadata": {
    "pythonIndentUnit": 4
   },
   "notebookName": "clean_up_images_and_move_files_to_s3",
   "widgets": {}
  },
  "language_info": {
   "name": "python"
  }
 },
 "nbformat": 4,
 "nbformat_minor": 0
}
