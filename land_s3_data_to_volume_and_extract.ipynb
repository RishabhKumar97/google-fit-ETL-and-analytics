{
 "cells": [
  {
   "cell_type": "code",
   "execution_count": 0,
   "metadata": {
    "application/vnd.databricks.v1+cell": {
     "cellMetadata": {
      "byteLimit": 2048000,
      "rowLimit": 10000
     },
     "inputWidgets": {},
     "nuid": "24c73d19-cd8e-47cc-9147-11af49223d4a",
     "showTitle": true,
     "tableResultSettingsMap": {},
     "title": "Imports"
    }
   },
   "outputs": [],
   "source": [
    "import zipfile\n",
    "import re\n",
    "from concurrent.futures import ThreadPoolExecutor, as_completed\n",
    "import json\n",
    "import os"
   ]
  },
  {
   "cell_type": "code",
   "execution_count": 0,
   "metadata": {
    "application/vnd.databricks.v1+cell": {
     "cellMetadata": {
      "byteLimit": 2048000,
      "implicitDf": true,
      "rowLimit": 10000
     },
     "inputWidgets": {},
     "nuid": "19a09f33-5d7c-459e-9c2b-ae8a04ff56d3",
     "showTitle": true,
     "tableResultSettingsMap": {},
     "title": "Setup"
    }
   },
   "outputs": [],
   "source": [
    "%sql\n",
    "\n",
    "use catalog google_fit\n"
   ]
  },
  {
   "cell_type": "code",
   "execution_count": 0,
   "metadata": {
    "application/vnd.databricks.v1+cell": {
     "cellMetadata": {
      "byteLimit": 2048000,
      "implicitDf": true,
      "rowLimit": 10000
     },
     "inputWidgets": {},
     "nuid": "cdc2ec3a-3e84-4bc7-9a79-aeb0271c53c7",
     "showTitle": false,
     "tableResultSettingsMap": {},
     "title": ""
    }
   },
   "outputs": [],
   "source": [
    "%sql\n",
    "create schema if not exists google_fit.bronze"
   ]
  },
  {
   "cell_type": "code",
   "execution_count": 0,
   "metadata": {
    "application/vnd.databricks.v1+cell": {
     "cellMetadata": {
      "byteLimit": 2048000,
      "implicitDf": true,
      "rowLimit": 10000
     },
     "inputWidgets": {},
     "nuid": "6a695f16-4df4-4070-b948-77fa838c0633",
     "showTitle": false,
     "tableResultSettingsMap": {},
     "title": ""
    }
   },
   "outputs": [],
   "source": [
    "%sql\n",
    "use schema bronze"
   ]
  },
  {
   "cell_type": "code",
   "execution_count": 0,
   "metadata": {
    "application/vnd.databricks.v1+cell": {
     "cellMetadata": {
      "byteLimit": 2048000,
      "implicitDf": true,
      "rowLimit": 10000
     },
     "inputWidgets": {},
     "nuid": "c957c6be-9287-4736-ba46-4bdae7ecabd5",
     "showTitle": false,
     "tableResultSettingsMap": {},
     "title": ""
    }
   },
   "outputs": [],
   "source": [
    "%sql\n",
    "\n",
    "create volume if not exists landing_zone"
   ]
  },
  {
   "cell_type": "code",
   "execution_count": 0,
   "metadata": {
    "application/vnd.databricks.v1+cell": {
     "cellMetadata": {
      "byteLimit": 2048000,
      "rowLimit": 10000
     },
     "inputWidgets": {},
     "nuid": "9fbe557e-ef01-40bc-8707-880adbd2f677",
     "showTitle": true,
     "tableResultSettingsMap": {},
     "title": "Path config"
    }
   },
   "outputs": [],
   "source": [
    "EXTERNAL_LOC = \"s3://google-fit-data-raw-12e34974-eb44-4fb4-ad47-49a2b7455430\"\n",
    "VOLUME_PATH = \"/Volumes/google_fit/bronze/landing_zone/\""
   ]
  },
  {
   "cell_type": "code",
   "execution_count": 0,
   "metadata": {
    "application/vnd.databricks.v1+cell": {
     "cellMetadata": {
      "byteLimit": 2048000,
      "rowLimit": 10000
     },
     "inputWidgets": {},
     "nuid": "f608a03d-7665-4042-8e93-d19422086363",
     "showTitle": true,
     "tableResultSettingsMap": {},
     "title": "Functions"
    }
   },
   "outputs": [],
   "source": [
    "def from_ext_s3_to_landing_zone():\n",
    "    global EXTERNAL_LOC\n",
    "    global VOLUME_PATH\n",
    "    try:\n",
    "        for file_info in dbutils.fs.ls(EXTERNAL_LOC):\n",
    "            if(re.search(\"takeout.*zip\", file_info.path)):\n",
    "                dbutils.fs.mv(file_info.path, VOLUME_PATH)\n",
    "    except Exception as e:\n",
    "        print(e)\n",
    "\n",
    "def unzip_file(file_path, output_path):\n",
    "    with zipfile.ZipFile(file_path, 'r') as zip_ref:\n",
    "        print(f\"Started extracting files from the path : {file_path}\")\n",
    "        print(f\"Extracting to the path: {output_path}\")\n",
    "        if(dbutils.fs.ls(output_path)):\n",
    "            print(f\"Extracted files already exist for the file :{file_path}\")\n",
    "            return\n",
    "        dbutils.fs.mkdirs(output_path)\n",
    "        zip_ref.extractall(output_path)\n",
    "\n",
    "def create_io_config_for_zip_files():\n",
    "    io_config_for_zip_files = dict()\n",
    "    for fileinfo in dbutils.fs.ls(VOLUME_PATH):\n",
    "        if fileinfo.path.split(\"/\")[-1].endswith(\".zip\"):\n",
    "            io_config_for_zip_files[fileinfo.path.replace(\"dbfs:\", \"\")] = VOLUME_PATH + fileinfo.path.split(\"/\")[-1].split(\".\")[0]  + \"/extracted/\"\n",
    "    return io_config_for_zip_files\n",
    "\n",
    "def extract_all_zip_files(io_config_for_zip_files: dict):\n",
    "    futures = []\n",
    "    with ThreadPoolExecutor(len(io_config_for_zip_files)) as e:\n",
    "        for file_path, output_path in io_config_for_zip_files.items():\n",
    "            futures.append(e.submit(unzip_file, file_path, output_path))\n",
    "    for future in as_completed(futures):\n",
    "        try:\n",
    "            future.result()\n",
    "        except Exception as e:\n",
    "            print(e)\n",
    "\n",
    "def walk_path_until_files(path, dirs_visited= [], leaf_dirs= []):\n",
    "     for info in dbutils.fs.ls(path):\n",
    "          if os.path.isdir(info.path.replace(\"dbfs:\", \"\")) and info.path not in dirs_visited:\n",
    "               dirs_visited.append(info.path)\n",
    "               walk_path_until_files(info.path, dirs_visited, leaf_dirs)\n",
    "          elif os.path.isfile(info.path.replace(\"dbfs:\", \"\")):\n",
    "               leaf_dirs.append(os.path.dirname(info.path)+\"/\")\n",
    "               break\n",
    "     return leaf_dirs\n",
    " \n",
    "def main():\n",
    "  from_ext_s3_to_landing_zone()\n",
    "  io_config_for_zip_files= create_io_config_for_zip_files()\n",
    "  extract_all_zip_files(io_config_for_zip_files)\n",
    "  output_paths_of_data = []\n",
    "  for _ , out_path in io_config_for_zip_files.items():\n",
    "       output_paths_of_data.extend(walk_path_until_files(out_path))\n",
    "  return output_paths_of_data"
   ]
  },
  {
   "cell_type": "code",
   "execution_count": 0,
   "metadata": {
    "application/vnd.databricks.v1+cell": {
     "cellMetadata": {
      "byteLimit": 2048000,
      "rowLimit": 10000
     },
     "inputWidgets": {},
     "nuid": "55d989fb-3517-4a44-bc8f-ce7cd248ab01",
     "showTitle": true,
     "tableResultSettingsMap": {},
     "title": "Main"
    }
   },
   "outputs": [],
   "source": [
    "output_paths_of_data = main()"
   ]
  },
  {
   "cell_type": "code",
   "execution_count": 0,
   "metadata": {
    "application/vnd.databricks.v1+cell": {
     "cellMetadata": {
      "byteLimit": 2048000,
      "rowLimit": 10000
     },
     "inputWidgets": {},
     "nuid": "fe54b59a-bac3-4a03-89f7-738d53e63523",
     "showTitle": true,
     "tableResultSettingsMap": {},
     "title": "Exit notebook"
    }
   },
   "outputs": [],
   "source": [
    "dbutils.notebook.exit(json.dumps(list(set(output_paths_of_data))))"
   ]
  }
 ],
 "metadata": {
  "application/vnd.databricks.v1+notebook": {
   "computePreferences": {
    "hardware": {
     "accelerator": null,
     "gpuPoolId": null,
     "memory": null
    }
   },
   "dashboards": [],
   "environmentMetadata": {
    "base_environment": "",
    "environment_version": "3"
   },
   "inputWidgetPreferences": null,
   "language": "python",
   "notebookMetadata": {
    "mostRecentlyExecutedCommandWithImplicitDF": {
     "commandId": 5222276133713923,
     "dataframes": [
      "_sqldf"
     ]
    },
    "pythonIndentUnit": 4
   },
   "notebookName": "land_s3_data_to_volume_and_extract",
   "widgets": {}
  },
  "language_info": {
   "name": "python"
  }
 },
 "nbformat": 4,
 "nbformat_minor": 0
}
